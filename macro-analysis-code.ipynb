{
 "cells": [
  {
   "cell_type": "code",
   "execution_count": 18,
   "metadata": {},
   "outputs": [
    {
     "name": "stderr",
     "output_type": "stream",
     "text": [
      "\n",
      "[notice] A new release of pip is available: 23.2.1 -> 23.3.1\n",
      "[notice] To update, run: C:\\Users\\theaw\\AppData\\Local\\Microsoft\\WindowsApps\\PythonSoftwareFoundation.Python.3.11_qbz5n2kfra8p0\\python.exe -m pip install --upgrade pip\n",
      "\n",
      "[notice] A new release of pip is available: 23.2.1 -> 23.3.1\n",
      "[notice] To update, run: C:\\Users\\theaw\\AppData\\Local\\Microsoft\\WindowsApps\\PythonSoftwareFoundation.Python.3.11_qbz5n2kfra8p0\\python.exe -m pip install --upgrade pip\n",
      "\n",
      "[notice] A new release of pip is available: 23.2.1 -> 23.3.1\n",
      "[notice] To update, run: C:\\Users\\theaw\\AppData\\Local\\Microsoft\\WindowsApps\\PythonSoftwareFoundation.Python.3.11_qbz5n2kfra8p0\\python.exe -m pip install --upgrade pip\n"
     ]
    }
   ],
   "source": [
    "!pip install -q yfinance\n",
    "!pip install -q matplotlib\n",
    "!pip install -q pandas_datareader"
   ]
  },
  {
   "cell_type": "code",
   "execution_count": 172,
   "metadata": {},
   "outputs": [],
   "source": [
    "import yfinance as yf\n",
    "import pandas as pd\n",
    "import matplotlib.pyplot as plt\n",
    "import pandas_datareader as pdr\n",
    "import datetime\n",
    "from dateutil.relativedelta import relativedelta\n"
   ]
  },
  {
   "cell_type": "markdown",
   "metadata": {},
   "source": [
    "# Money Supply"
   ]
  },
  {
   "cell_type": "code",
   "execution_count": 191,
   "metadata": {},
   "outputs": [],
   "source": [
    "def fetch_money_supply():\n",
    "    # Define the list of money supply series to fetch\n",
    "    money_supply_series = ['M1SL', 'M2SL']\n",
    "\n",
    "    # Fetch money supply data using pandas_datareader\n",
    "    money_supply_data = pdr.get_data_fred(money_supply_series, start_date_with_shift, end_date)\n",
    "\n",
    "    # Calculate the YoY percentage change\n",
    "    money_supply_data['M1SL_YoY'] = money_supply_data['M1SL'].pct_change(12) * 100\n",
    "    money_supply_data['M2SL_YoY'] = money_supply_data['M2SL'].pct_change(12) * 100\n",
    "\n",
    "\n",
    "    return money_supply_data\n"
   ]
  },
  {
   "cell_type": "code",
   "execution_count": 192,
   "metadata": {},
   "outputs": [],
   "source": [
    "# Retrieves all MS between start and end date and returns MS differences in each period bin\n",
    "def money_supply_info(macro_indicators):\n",
    "    money_supply_data = fetch_money_supply()\n",
    "    \n",
    "    money_supply_data_average = money_supply_data.resample(period_length).mean()\n",
    "\n",
    "    money_supply_data_average['M1-M2'] = money_supply_data_average['M1SL_YoY'] - money_supply_data_average['M2SL_YoY']\n",
    "\n",
    "    macro_indicators = pd.merge(macro_indicators, money_supply_data_average['M1-M2'], on='DATE', how='left')\n",
    "    return macro_indicators"
   ]
  },
  {
   "cell_type": "markdown",
   "metadata": {},
   "source": [
    "# CPI Inflation"
   ]
  },
  {
   "cell_type": "code",
   "execution_count": 193,
   "metadata": {},
   "outputs": [],
   "source": [
    "def fetch_cpi_annual_change():\n",
    "    try:\n",
    "        # Fetch U.S. Consumer Price Index (CPI) data from FRED\n",
    "        cpi_data = pdr.get_data_fred('CPIAUCSL', start = start_date_with_shift, end = end_date)\n",
    "\n",
    "        if not cpi_data.empty:\n",
    "            # Calculate annual percentage change\n",
    "            cpi_data['Annual_Change'] = cpi_data['CPIAUCSL'].pct_change(12) * 100\n",
    "\n",
    "            return cpi_data[['Annual_Change']]\n",
    "        else:\n",
    "            return None  # Return None if there is no data\n",
    "    except Exception as e:\n",
    "        return None  # Return None if there is an error\n"
   ]
  },
  {
   "cell_type": "code",
   "execution_count": 194,
   "metadata": {},
   "outputs": [],
   "source": [
    "def cpi_info(macro_indicators):\n",
    "    cpi_data_info = pd.DataFrame()\n",
    "    cpi_data = fetch_cpi_annual_change()\n",
    "    cpi_data_info['average_cpi_change'] = cpi_data.resample(period_length).mean()\n",
    "    cpi_data_info['single_average_cpi_change'] = cpi_data_info['average_cpi_change'] - cpi_data_info['average_cpi_change'].shift(1)\n",
    "    cpi_data_info['lag_single_average_cpi_change'] = cpi_data_info['single_average_cpi_change'].shift(1)\n",
    "\n",
    "    macro_indicators = pd.merge(macro_indicators, cpi_data_info[['average_cpi_change', 'single_average_cpi_change', 'lag_single_average_cpi_change']], on = 'DATE', how = 'left')\n",
    "    \n",
    "    return(macro_indicators)"
   ]
  },
  {
   "cell_type": "markdown",
   "metadata": {},
   "source": [
    "# Unemployment"
   ]
  },
  {
   "cell_type": "code",
   "execution_count": 201,
   "metadata": {},
   "outputs": [],
   "source": [
    "def fetch_unemployment_data():\n",
    "    try:\n",
    "        # Define the ticker symbol for the U.S. unemployment rate (UNRATE)\n",
    "        unemployment_ticker = \"UNRATE\"\n",
    "\n",
    "        # Fetch unemployment data from FRED\n",
    "        unemployment_data = pdr.get_data_fred(unemployment_ticker, start = start_date_with_shift, end = end_date)\n",
    "\n",
    "        return unemployment_data\n",
    "    except Exception as e:\n",
    "        return None  # Return None if there is an error"
   ]
  },
  {
   "cell_type": "code",
   "execution_count": 216,
   "metadata": {},
   "outputs": [],
   "source": [
    "def unemployment_info(macro_indicators):\n",
    "    unemployment_info = pd.DataFrame()\n",
    "    unemployment_data = fetch_unemployment_data()\n",
    "    unemployment_info['average_unemployment'] = unemployment_data.resample(period_length).mean()\n",
    "    unemployment_info['average_unemployment_change'] = unemployment_data['average_unemployment'] - unemployment_data['average_unemployment'].shift(1)\n",
    "    unemployment_info['lag_average_unemployment_change'] = unemployment_data['average_unemployment'].shift(1)\n",
    "    macro_indicators = pd.merge(macro_indicators, unemployment_info[['average_unemployment', 'average_unemployment_change', 'lag_average_unemployment_change']])\n",
    "    return macro_indicators"
   ]
  },
  {
   "cell_type": "markdown",
   "metadata": {},
   "source": [
    "# Interest Rates"
   ]
  },
  {
   "cell_type": "code",
   "execution_count": 195,
   "metadata": {},
   "outputs": [],
   "source": [
    "def fetch_fed_interest_rate():\n",
    "    try:\n",
    "        # Fetch Federal Reserve interest rate data (FEDFUNDS) from FRED\n",
    "        fed_interest_rate = pdr.get_data_fred('FEDFUNDS', start = start_date_with_shift, end=end_date)\n",
    "\n",
    "        if not fed_interest_rate.empty:\n",
    "            return fed_interest_rate\n",
    "        else:\n",
    "            return None  # Return None if there is no data\n",
    "    except Exception as e:\n",
    "        return None  # Return None if there is an error\n",
    "\n"
   ]
  },
  {
   "cell_type": "code",
   "execution_count": 196,
   "metadata": {},
   "outputs": [],
   "source": [
    "def fed_interest_rate_info(macro_indicators):\n",
    "    fed_interest_rate_info = pd.DataFrame()\n",
    "    fed_interest_rate = fetch_fed_interest_rate()\n",
    "    fed_interest_rate_info['average_interest_rate'] = fed_interest_rate.resample(period_length).mean()\n",
    "    fed_interest_rate_info['single_rate_period_change'] = fed_interest_rate_info['average_interest_rate'] - fed_interest_rate_info['average_interest_rate'].shift(1)\n",
    "    fed_interest_rate_info['lag_single_rate_change'] = fed_interest_rate_info['single_rate_period_change'].shift(1)\n",
    "    macro_indicators = pd.merge(macro_indicators, fed_interest_rate_info[['average_interest_rate','single_rate_period_change', 'lag_single_rate_change']],on = 'DATE', how = 'left')\n",
    "    return(macro_indicators)\n",
    "\n"
   ]
  },
  {
   "cell_type": "markdown",
   "metadata": {},
   "source": [
    "# "
   ]
  },
  {
   "cell_type": "markdown",
   "metadata": {},
   "source": [
    "# MAIN"
   ]
  },
  {
   "cell_type": "code",
   "execution_count": 217,
   "metadata": {},
   "outputs": [
    {
     "ename": "KeyError",
     "evalue": "'average_unemployment'",
     "output_type": "error",
     "traceback": [
      "\u001b[1;31m---------------------------------------------------------------------------\u001b[0m",
      "\u001b[1;31mKeyError\u001b[0m                                  Traceback (most recent call last)",
      "File \u001b[1;32m~\\AppData\\Local\\Packages\\PythonSoftwareFoundation.Python.3.11_qbz5n2kfra8p0\\LocalCache\\local-packages\\Python311\\site-packages\\pandas\\core\\indexes\\base.py:3790\u001b[0m, in \u001b[0;36mIndex.get_loc\u001b[1;34m(self, key)\u001b[0m\n\u001b[0;32m   3789\u001b[0m \u001b[39mtry\u001b[39;00m:\n\u001b[1;32m-> 3790\u001b[0m     \u001b[39mreturn\u001b[39;00m \u001b[39mself\u001b[39;49m\u001b[39m.\u001b[39;49m_engine\u001b[39m.\u001b[39;49mget_loc(casted_key)\n\u001b[0;32m   3791\u001b[0m \u001b[39mexcept\u001b[39;00m \u001b[39mKeyError\u001b[39;00m \u001b[39mas\u001b[39;00m err:\n",
      "File \u001b[1;32mindex.pyx:152\u001b[0m, in \u001b[0;36mpandas._libs.index.IndexEngine.get_loc\u001b[1;34m()\u001b[0m\n",
      "File \u001b[1;32mindex.pyx:181\u001b[0m, in \u001b[0;36mpandas._libs.index.IndexEngine.get_loc\u001b[1;34m()\u001b[0m\n",
      "File \u001b[1;32mpandas\\_libs\\hashtable_class_helper.pxi:7080\u001b[0m, in \u001b[0;36mpandas._libs.hashtable.PyObjectHashTable.get_item\u001b[1;34m()\u001b[0m\n",
      "File \u001b[1;32mpandas\\_libs\\hashtable_class_helper.pxi:7088\u001b[0m, in \u001b[0;36mpandas._libs.hashtable.PyObjectHashTable.get_item\u001b[1;34m()\u001b[0m\n",
      "\u001b[1;31mKeyError\u001b[0m: 'average_unemployment'",
      "\nThe above exception was the direct cause of the following exception:\n",
      "\u001b[1;31mKeyError\u001b[0m                                  Traceback (most recent call last)",
      "\u001b[1;32mc:\\Users\\theaw\\OneDrive\\Desktop\\Stock Equity\\macro-analysis\\macro-analysis-code.ipynb Cell 17\u001b[0m line \u001b[0;36m2\n\u001b[0;32m     <a href='vscode-notebook-cell:/c%3A/Users/theaw/OneDrive/Desktop/Stock%20Equity/macro-analysis/macro-analysis-code.ipynb#X14sZmlsZQ%3D%3D?line=16'>17</a>\u001b[0m macro_indicators \u001b[39m=\u001b[39m cpi_info(macro_indicators)\n\u001b[0;32m     <a href='vscode-notebook-cell:/c%3A/Users/theaw/OneDrive/Desktop/Stock%20Equity/macro-analysis/macro-analysis-code.ipynb#X14sZmlsZQ%3D%3D?line=18'>19</a>\u001b[0m \u001b[39m# Get unemployment info\u001b[39;00m\n\u001b[1;32m---> <a href='vscode-notebook-cell:/c%3A/Users/theaw/OneDrive/Desktop/Stock%20Equity/macro-analysis/macro-analysis-code.ipynb#X14sZmlsZQ%3D%3D?line=19'>20</a>\u001b[0m macro_indicators \u001b[39m=\u001b[39m unemployment_info(macro_indicators)\n",
      "\u001b[1;32mc:\\Users\\theaw\\OneDrive\\Desktop\\Stock Equity\\macro-analysis\\macro-analysis-code.ipynb Cell 17\u001b[0m line \u001b[0;36m5\n\u001b[0;32m      <a href='vscode-notebook-cell:/c%3A/Users/theaw/OneDrive/Desktop/Stock%20Equity/macro-analysis/macro-analysis-code.ipynb#X14sZmlsZQ%3D%3D?line=2'>3</a>\u001b[0m unemployment_data \u001b[39m=\u001b[39m fetch_unemployment_data()\n\u001b[0;32m      <a href='vscode-notebook-cell:/c%3A/Users/theaw/OneDrive/Desktop/Stock%20Equity/macro-analysis/macro-analysis-code.ipynb#X14sZmlsZQ%3D%3D?line=3'>4</a>\u001b[0m unemployment_info[\u001b[39m'\u001b[39m\u001b[39maverage_unemployment\u001b[39m\u001b[39m'\u001b[39m] \u001b[39m=\u001b[39m unemployment_data\u001b[39m.\u001b[39mresample(period_length)\u001b[39m.\u001b[39mmean()\n\u001b[1;32m----> <a href='vscode-notebook-cell:/c%3A/Users/theaw/OneDrive/Desktop/Stock%20Equity/macro-analysis/macro-analysis-code.ipynb#X14sZmlsZQ%3D%3D?line=4'>5</a>\u001b[0m unemployment_info[\u001b[39m'\u001b[39m\u001b[39maverage_unemployment_change\u001b[39m\u001b[39m'\u001b[39m] \u001b[39m=\u001b[39m unemployment_data[\u001b[39m'\u001b[39;49m\u001b[39maverage_unemployment\u001b[39;49m\u001b[39m'\u001b[39;49m] \u001b[39m-\u001b[39m unemployment_data[\u001b[39m'\u001b[39m\u001b[39maverage_unemployment\u001b[39m\u001b[39m'\u001b[39m]\u001b[39m.\u001b[39mshift(\u001b[39m1\u001b[39m)\n\u001b[0;32m      <a href='vscode-notebook-cell:/c%3A/Users/theaw/OneDrive/Desktop/Stock%20Equity/macro-analysis/macro-analysis-code.ipynb#X14sZmlsZQ%3D%3D?line=5'>6</a>\u001b[0m unemployment_info[\u001b[39m'\u001b[39m\u001b[39mlag_average_unemployment_change\u001b[39m\u001b[39m'\u001b[39m] \u001b[39m=\u001b[39m unemployment_data[\u001b[39m'\u001b[39m\u001b[39maverage_unemployment\u001b[39m\u001b[39m'\u001b[39m]\u001b[39m.\u001b[39mshift(\u001b[39m1\u001b[39m)\n\u001b[0;32m      <a href='vscode-notebook-cell:/c%3A/Users/theaw/OneDrive/Desktop/Stock%20Equity/macro-analysis/macro-analysis-code.ipynb#X14sZmlsZQ%3D%3D?line=6'>7</a>\u001b[0m macro_indicators \u001b[39m=\u001b[39m pd\u001b[39m.\u001b[39mmerge(macro_indicators, unemployment_info[[\u001b[39m'\u001b[39m\u001b[39maverage_unemployment\u001b[39m\u001b[39m'\u001b[39m, \u001b[39m'\u001b[39m\u001b[39maverage_unemployment_change\u001b[39m\u001b[39m'\u001b[39m, \u001b[39m'\u001b[39m\u001b[39mlag_average_unemployment_change\u001b[39m\u001b[39m'\u001b[39m]])\n",
      "File \u001b[1;32m~\\AppData\\Local\\Packages\\PythonSoftwareFoundation.Python.3.11_qbz5n2kfra8p0\\LocalCache\\local-packages\\Python311\\site-packages\\pandas\\core\\frame.py:3893\u001b[0m, in \u001b[0;36mDataFrame.__getitem__\u001b[1;34m(self, key)\u001b[0m\n\u001b[0;32m   3891\u001b[0m \u001b[39mif\u001b[39;00m \u001b[39mself\u001b[39m\u001b[39m.\u001b[39mcolumns\u001b[39m.\u001b[39mnlevels \u001b[39m>\u001b[39m \u001b[39m1\u001b[39m:\n\u001b[0;32m   3892\u001b[0m     \u001b[39mreturn\u001b[39;00m \u001b[39mself\u001b[39m\u001b[39m.\u001b[39m_getitem_multilevel(key)\n\u001b[1;32m-> 3893\u001b[0m indexer \u001b[39m=\u001b[39m \u001b[39mself\u001b[39;49m\u001b[39m.\u001b[39;49mcolumns\u001b[39m.\u001b[39;49mget_loc(key)\n\u001b[0;32m   3894\u001b[0m \u001b[39mif\u001b[39;00m is_integer(indexer):\n\u001b[0;32m   3895\u001b[0m     indexer \u001b[39m=\u001b[39m [indexer]\n",
      "File \u001b[1;32m~\\AppData\\Local\\Packages\\PythonSoftwareFoundation.Python.3.11_qbz5n2kfra8p0\\LocalCache\\local-packages\\Python311\\site-packages\\pandas\\core\\indexes\\base.py:3797\u001b[0m, in \u001b[0;36mIndex.get_loc\u001b[1;34m(self, key)\u001b[0m\n\u001b[0;32m   3792\u001b[0m     \u001b[39mif\u001b[39;00m \u001b[39misinstance\u001b[39m(casted_key, \u001b[39mslice\u001b[39m) \u001b[39mor\u001b[39;00m (\n\u001b[0;32m   3793\u001b[0m         \u001b[39misinstance\u001b[39m(casted_key, abc\u001b[39m.\u001b[39mIterable)\n\u001b[0;32m   3794\u001b[0m         \u001b[39mand\u001b[39;00m \u001b[39many\u001b[39m(\u001b[39misinstance\u001b[39m(x, \u001b[39mslice\u001b[39m) \u001b[39mfor\u001b[39;00m x \u001b[39min\u001b[39;00m casted_key)\n\u001b[0;32m   3795\u001b[0m     ):\n\u001b[0;32m   3796\u001b[0m         \u001b[39mraise\u001b[39;00m InvalidIndexError(key)\n\u001b[1;32m-> 3797\u001b[0m     \u001b[39mraise\u001b[39;00m \u001b[39mKeyError\u001b[39;00m(key) \u001b[39mfrom\u001b[39;00m \u001b[39merr\u001b[39;00m\n\u001b[0;32m   3798\u001b[0m \u001b[39mexcept\u001b[39;00m \u001b[39mTypeError\u001b[39;00m:\n\u001b[0;32m   3799\u001b[0m     \u001b[39m# If we have a listlike key, _check_indexing_error will raise\u001b[39;00m\n\u001b[0;32m   3800\u001b[0m     \u001b[39m#  InvalidIndexError. Otherwise we fall through and re-raise\u001b[39;00m\n\u001b[0;32m   3801\u001b[0m     \u001b[39m#  the TypeError.\u001b[39;00m\n\u001b[0;32m   3802\u001b[0m     \u001b[39mself\u001b[39m\u001b[39m.\u001b[39m_check_indexing_error(key)\n",
      "\u001b[1;31mKeyError\u001b[0m: 'average_unemployment'"
     ]
    }
   ],
   "source": [
    "# Main\n",
    "end_date = datetime.datetime(2022, 1, 1)\n",
    "start_date = end_date - relativedelta(months = 36)\n",
    "start_date_with_shift = start_date - relativedelta(months = 15)\n",
    "\n",
    "period_length = '1M'\n",
    "date_range = pd.date_range(start=start_date, end=end_date, freq=test_period_length)\n",
    "macro_indicators = pd.DataFrame({'DATE': date_range})\n",
    "\n",
    "# Get M1S-M2S info\n",
    "macro_indicators = money_supply_info(macro_indicators)\n",
    "\n",
    "# Get interest rate info\n",
    "macro_indicators = fed_interest_rate_info(macro_indicators)\n",
    "\n",
    "# Get CPI info\n",
    "macro_indicators = cpi_info(macro_indicators)\n",
    "\n",
    "# Get unemployment info\n",
    "macro_indicators = unemployment_info(macro_indicators)\n",
    "\n",
    "\n",
    "\n"
   ]
  },
  {
   "cell_type": "code",
   "execution_count": null,
   "metadata": {},
   "outputs": [],
   "source": [
    "macro_indicators"
   ]
  },
  {
   "cell_type": "markdown",
   "metadata": {},
   "source": [
    "# MAIN"
   ]
  },
  {
   "cell_type": "code",
   "execution_count": 214,
   "metadata": {},
   "outputs": [
    {
     "data": {
      "text/plain": [
       "Index(['DATE', 'M1-M2', 'average_interest_rate', 'single_rate_period_change',\n",
       "       'lag_single_rate_change', 'average_cpi_change',\n",
       "       'single_average_cpi_change', 'lag_single_average_cpi_change'],\n",
       "      dtype='object')"
      ]
     },
     "execution_count": 214,
     "metadata": {},
     "output_type": "execute_result"
    }
   ],
   "source": [
    "macro_indicators.columns\n",
    "\n",
    "#lgbm ML model"
   ]
  },
  {
   "cell_type": "code",
   "execution_count": null,
   "metadata": {},
   "outputs": [],
   "source": []
  }
 ],
 "metadata": {
  "kernelspec": {
   "display_name": "Python 3",
   "language": "python",
   "name": "python3"
  },
  "language_info": {
   "codemirror_mode": {
    "name": "ipython",
    "version": 3
   },
   "file_extension": ".py",
   "mimetype": "text/x-python",
   "name": "python",
   "nbconvert_exporter": "python",
   "pygments_lexer": "ipython3",
   "version": "3.11.6"
  }
 },
 "nbformat": 4,
 "nbformat_minor": 2
}
