{
 "cells": [
  {
   "cell_type": "code",
   "execution_count": 18,
   "metadata": {},
   "outputs": [
    {
     "name": "stderr",
     "output_type": "stream",
     "text": [
      "\n",
      "[notice] A new release of pip is available: 23.2.1 -> 23.3.1\n",
      "[notice] To update, run: C:\\Users\\theaw\\AppData\\Local\\Microsoft\\WindowsApps\\PythonSoftwareFoundation.Python.3.11_qbz5n2kfra8p0\\python.exe -m pip install --upgrade pip\n",
      "\n",
      "[notice] A new release of pip is available: 23.2.1 -> 23.3.1\n",
      "[notice] To update, run: C:\\Users\\theaw\\AppData\\Local\\Microsoft\\WindowsApps\\PythonSoftwareFoundation.Python.3.11_qbz5n2kfra8p0\\python.exe -m pip install --upgrade pip\n",
      "\n",
      "[notice] A new release of pip is available: 23.2.1 -> 23.3.1\n",
      "[notice] To update, run: C:\\Users\\theaw\\AppData\\Local\\Microsoft\\WindowsApps\\PythonSoftwareFoundation.Python.3.11_qbz5n2kfra8p0\\python.exe -m pip install --upgrade pip\n"
     ]
    }
   ],
   "source": [
    "!pip install -q yfinance\n",
    "!pip install -q matplotlib\n",
    "!pip install -q pandas_datareader\n",
    "!pip install -q lightgbm\n",
    "!pip install scikit-learn\n",
    "!pip install lightgbm --upgrade\n",
    "!pip install graphviz\n",
    "\n"
   ]
  },
  {
   "cell_type": "code",
   "execution_count": 1,
   "metadata": {},
   "outputs": [],
   "source": [
    "import yfinance as yf\n",
    "import pandas as pd\n",
    "import matplotlib.pyplot as plt\n",
    "import pandas_datareader as pdr\n",
    "import numpy as np\n",
    "import datetime\n",
    "import lightgbm\n",
    "from dateutil.relativedelta import relativedelta\n",
    "from sklearn.model_selection import train_test_split\n",
    "from sklearn.metrics import accuracy_score\n",
    "import graphviz\n",
    "\n",
    "\n"
   ]
  },
  {
   "cell_type": "markdown",
   "metadata": {},
   "source": [
    "# Economy Sample Stock"
   ]
  },
  {
   "cell_type": "code",
   "execution_count": 24,
   "metadata": {},
   "outputs": [],
   "source": [
    "def stock_info(macro_indicators):\n",
    "    ticker_data_info = pd.DataFrame()\n",
    "    tick = yf.download(ticker, start = start_date_with_shift, end = end_date)\n",
    "    ticker_data_info['average_stock_price'] = tick['Close'].resample(period_length).mean()\n",
    "    ticker_data_info['average_stock_price_change'] = ticker_data_info['average_stock_price'] - ticker_data_info['average_stock_price'].shift(1)\n",
    "    ticker_data_info['lag_average_stock_price_change'] = ticker_data_info['average_stock_price_change'].shift(1)\n",
    "    ticker_data_info.reset_index(inplace=True)\n",
    "    macro_indicators = pd.merge(macro_indicators, ticker_data_info[['Date', 'average_stock_price', 'average_stock_price_change', 'lag_average_stock_price_change']], \n",
    "                                left_on = 'DATE',\n",
    "                                right_on = 'Date',\n",
    "                                how = 'left')\n",
    "    macro_indicators.drop(columns=['Date'], inplace=True)\n",
    "    \n",
    "    return macro_indicators\n"
   ]
  },
  {
   "cell_type": "markdown",
   "metadata": {},
   "source": [
    "# Money Supply"
   ]
  },
  {
   "cell_type": "code",
   "execution_count": 3,
   "metadata": {},
   "outputs": [],
   "source": [
    "def fetch_money_supply():\n",
    "    # Define the list of money supply series to fetch\n",
    "    money_supply_series = ['M1SL', 'M2SL']\n",
    "\n",
    "    # Fetch money supply data using pandas_datareader\n",
    "    money_supply_data = pdr.get_data_fred(money_supply_series, start_date_with_shift, end_date)\n",
    "\n",
    "    # Calculate the YoY percentage change\n",
    "    money_supply_data['M1SL_YoY'] = money_supply_data['M1SL'].pct_change(12) * 100\n",
    "    money_supply_data['M2SL_YoY'] = money_supply_data['M2SL'].pct_change(12) * 100\n",
    "\n",
    "\n",
    "    return money_supply_data\n"
   ]
  },
  {
   "cell_type": "code",
   "execution_count": 4,
   "metadata": {},
   "outputs": [],
   "source": [
    "# Retrieves all MS between start and end date and returns MS differences in each period bin\n",
    "def money_supply_info(macro_indicators):\n",
    "    money_supply_data = fetch_money_supply()\n",
    "    \n",
    "    money_supply_data_average = money_supply_data.resample(period_length).mean()\n",
    "\n",
    "    money_supply_data_average['M1-M2'] = money_supply_data_average['M1SL_YoY'] - money_supply_data_average['M2SL_YoY']\n",
    "\n",
    "    macro_indicators = pd.merge(macro_indicators, money_supply_data_average['M1-M2'], on='DATE', how='left')\n",
    "    return macro_indicators"
   ]
  },
  {
   "cell_type": "markdown",
   "metadata": {},
   "source": [
    "# CPI Inflation"
   ]
  },
  {
   "cell_type": "code",
   "execution_count": 5,
   "metadata": {},
   "outputs": [],
   "source": [
    "def fetch_cpi_annual_change():\n",
    "    try:\n",
    "        # Fetch U.S. Consumer Price Index (CPI) data from FRED\n",
    "        cpi_data = pdr.get_data_fred('CPIAUCSL', start = start_date_with_shift, end = end_date)\n",
    "\n",
    "        if not cpi_data.empty:\n",
    "            # Calculate annual percentage change\n",
    "            cpi_data['Annual_Change'] = cpi_data['CPIAUCSL'].pct_change(12) * 100\n",
    "\n",
    "            return cpi_data[['Annual_Change']]\n",
    "        else:\n",
    "            return None  # Return None if there is no data\n",
    "    except Exception as e:\n",
    "        return None  # Return None if there is an error\n"
   ]
  },
  {
   "cell_type": "code",
   "execution_count": 6,
   "metadata": {},
   "outputs": [],
   "source": [
    "def cpi_info(macro_indicators):\n",
    "    cpi_data_info = pd.DataFrame()\n",
    "    cpi_data = fetch_cpi_annual_change()\n",
    "    cpi_data_info['average_cpi_change'] = cpi_data.resample(period_length).mean()\n",
    "    cpi_data_info['single_average_cpi_change'] = cpi_data_info['average_cpi_change'] - cpi_data_info['average_cpi_change'].shift(1)\n",
    "    cpi_data_info['lag_single_average_cpi_change'] = cpi_data_info['single_average_cpi_change'].shift(1)\n",
    "\n",
    "    macro_indicators = pd.merge(macro_indicators, cpi_data_info[['average_cpi_change', 'single_average_cpi_change', 'lag_single_average_cpi_change']], on = 'DATE', how = 'left')\n",
    "    \n",
    "    return(macro_indicators)"
   ]
  },
  {
   "cell_type": "markdown",
   "metadata": {},
   "source": [
    "# Unemployment"
   ]
  },
  {
   "cell_type": "code",
   "execution_count": 7,
   "metadata": {},
   "outputs": [],
   "source": [
    "def fetch_unemployment_data():\n",
    "    try:\n",
    "        # Define the ticker symbol for the U.S. unemployment rate (UNRATE)\n",
    "        unemployment_ticker = \"UNRATE\"\n",
    "\n",
    "        # Fetch unemployment data from FRED\n",
    "        unemployment_data = pdr.get_data_fred(unemployment_ticker, start = start_date_with_shift, end = end_date)\n",
    "\n",
    "        return unemployment_data\n",
    "    except Exception as e:\n",
    "        return None  # Return None if there is an error"
   ]
  },
  {
   "cell_type": "code",
   "execution_count": 8,
   "metadata": {},
   "outputs": [],
   "source": [
    "def unemployment_info(macro_indicators):\n",
    "    unemployment_info = pd.DataFrame()\n",
    "    unemployment_data = fetch_unemployment_data()\n",
    "    unemployment_info['average_unemployment'] = unemployment_data.resample(period_length).mean()\n",
    "    unemployment_info['average_unemployment_change'] = unemployment_info['average_unemployment'] - unemployment_info['average_unemployment'].shift(1)\n",
    "    unemployment_info['lag_average_unemployment_change'] = unemployment_info['average_unemployment_change'].shift(1)\n",
    "    macro_indicators = pd.merge(macro_indicators, unemployment_info[['average_unemployment', 'average_unemployment_change', 'lag_average_unemployment_change']], on = 'DATE', how = 'left')\n",
    "    return macro_indicators"
   ]
  },
  {
   "cell_type": "markdown",
   "metadata": {},
   "source": [
    "# Interest Rates"
   ]
  },
  {
   "cell_type": "code",
   "execution_count": 9,
   "metadata": {},
   "outputs": [],
   "source": [
    "def fetch_fed_interest_rate():\n",
    "    try:\n",
    "        # Fetch Federal Reserve interest rate data (FEDFUNDS) from FRED\n",
    "        fed_interest_rate = pdr.get_data_fred('FEDFUNDS', start = start_date_with_shift, end=end_date)\n",
    "\n",
    "        if not fed_interest_rate.empty:\n",
    "            return fed_interest_rate\n",
    "        else:\n",
    "            return None  # Return None if there is no data\n",
    "    except Exception as e:\n",
    "        return None  # Return None if there is an error\n",
    "\n"
   ]
  },
  {
   "cell_type": "code",
   "execution_count": 10,
   "metadata": {},
   "outputs": [],
   "source": [
    "def fed_interest_rate_info(macro_indicators):\n",
    "    fed_interest_rate_info = pd.DataFrame()\n",
    "    fed_interest_rate = fetch_fed_interest_rate()\n",
    "    fed_interest_rate_info['average_interest_rate'] = fed_interest_rate.resample(period_length).mean()\n",
    "    fed_interest_rate_info['single_rate_period_change'] = fed_interest_rate_info['average_interest_rate'] - fed_interest_rate_info['average_interest_rate'].shift(1)\n",
    "    fed_interest_rate_info['lag_single_rate_change'] = fed_interest_rate_info['single_rate_period_change'].shift(1)\n",
    "    macro_indicators = pd.merge(macro_indicators, fed_interest_rate_info[['average_interest_rate','single_rate_period_change', 'lag_single_rate_change']],on = 'DATE', how = 'left')\n",
    "    return(macro_indicators)\n",
    "\n"
   ]
  },
  {
   "cell_type": "markdown",
   "metadata": {},
   "source": [
    "# CPI, Inflation, unemployment, interest rates\n"
   ]
  },
  {
   "cell_type": "code",
   "execution_count": 11,
   "metadata": {},
   "outputs": [],
   "source": [
    "# New Function that takes the df(macro_indicators), function name, type of indicator\n",
    "# Not currently used in my code yet but more efficent coding :)\n",
    "def calculate_indicator_info(macro_indicators, fetch_function, column_prefix):\n",
    "    indicator_info = pd.DataFrame()\n",
    "    indicator_data = fetch_function()\n",
    "    average_column_name = f'average_{column_prefix}'\n",
    "    single_change_column_name = f'single_{column_prefix}_change'\n",
    "    lag_single_change_column_name = f'lag_{single_change_column_name}'\n",
    "\n",
    "    indicator_info[average_column_name] = indicator_data.resample(period_length).mean()\n",
    "    indicator_info[single_change_column_name] = indicator_info[average_column_name] - indicator_info[average_column_name].shift(1)\n",
    "    indicator_info[lag_single_change_column_name] = indicator_info[single_change_column_name].shift(1)\n",
    "\n",
    "    macro_indicators = pd.merge(\n",
    "        macro_indicators,\n",
    "        indicator_info[[average_column_name, single_change_column_name, lag_single_change_column_name]],\n",
    "        on='DATE',\n",
    "        how='left'\n",
    "    )\n",
    "\n",
    "    return macro_indicators"
   ]
  },
  {
   "cell_type": "code",
   "execution_count": 12,
   "metadata": {},
   "outputs": [],
   "source": [
    "def apply_indicators_info(macro_indicators, indicator_functions):\n",
    "    for indicator_function in indicator_functions:\n",
    "        macro_indicators = indicator_function(macro_indicators)\n",
    "    return macro_indicators"
   ]
  },
  {
   "cell_type": "markdown",
   "metadata": {},
   "source": [
    "# "
   ]
  },
  {
   "cell_type": "markdown",
   "metadata": {},
   "source": [
    "# MAIN"
   ]
  },
  {
   "cell_type": "code",
   "execution_count": 25,
   "metadata": {},
   "outputs": [],
   "source": [
    "# Main\n",
    "period_length = '1M'\n",
    "ticker = \"SPY\"\n",
    "\n",
    "# Not sure why i can only do 36 months ahead\n",
    "start_date = end_date - relativedelta(months = 36)\n",
    "start_date_with_shift = start_date - relativedelta(months = 15)\n",
    "\n",
    "def get_data(end_date):\n",
    "\n",
    "    date_range = pd.date_range(start=start_date, end=end_date, freq = period_length)\n",
    "    macro_indicators = pd.DataFrame({'DATE': date_range})\n",
    "\n",
    "    stock_info(macro_indicators)\n",
    "\n",
    "    indicator_functions = [stock_info, money_supply_info, fed_interest_rate_info, cpi_info, unemployment_info]\n",
    "    macro_indicators = apply_indicators_info(macro_indicators, indicator_functions)\n",
    "    return macro_indicators\n",
    "\n",
    "\n",
    "\n"
   ]
  },
  {
   "cell_type": "code",
   "execution_count": 26,
   "metadata": {},
   "outputs": [
    {
     "name": "stdout",
     "output_type": "stream",
     "text": [
      "[*********************100%%**********************]  1 of 1 completed\n",
      "[*********************100%%**********************]  1 of 1 completed\n"
     ]
    }
   ],
   "source": [
    "end_date = datetime.datetime(2022, 1, 1)\n",
    "macro_indicators = get_data(end_date)\n"
   ]
  },
  {
   "cell_type": "markdown",
   "metadata": {},
   "source": [
    "# BACKTESTING"
   ]
  },
  {
   "cell_type": "markdown",
   "metadata": {},
   "source": [
    "### SELL, HOLD, BUY\n"
   ]
  },
  {
   "cell_type": "code",
   "execution_count": 27,
   "metadata": {},
   "outputs": [],
   "source": [
    "# Determine SELL, HOLD, or BUY based on future change\n",
    "def buy_or_sell(training_macro_indicators):\n",
    "    training_macro_indicators['future_change'] = training_macro_indicators['average_stock_price'].shift(-1) - training_macro_indicators['average_stock_price']\n",
    "\n",
    "    conditions = [\n",
    "        (training_macro_indicators['future_change'] >= 5),\n",
    "        (training_macro_indicators['future_change'] < 5) & (training_macro_indicators['future_change'] > -5),\n",
    "        (training_macro_indicators['future_change'] <= -5)\n",
    "    ]\n",
    "\n",
    "    choices = ['BUY', 'HOLD', 'SELL']\n",
    "\n",
    "    training_macro_indicators['buy_or_sell'] = np.select(conditions, choices, default='HOLD')\n",
    "\n",
    "    return training_macro_indicators"
   ]
  },
  {
   "cell_type": "code",
   "execution_count": 28,
   "metadata": {},
   "outputs": [],
   "source": [
    "train_macro_indicators = macro_indicators"
   ]
  },
  {
   "cell_type": "code",
   "execution_count": 31,
   "metadata": {},
   "outputs": [
    {
     "data": {
      "text/html": [
       "<div>\n",
       "<style scoped>\n",
       "    .dataframe tbody tr th:only-of-type {\n",
       "        vertical-align: middle;\n",
       "    }\n",
       "\n",
       "    .dataframe tbody tr th {\n",
       "        vertical-align: top;\n",
       "    }\n",
       "\n",
       "    .dataframe thead th {\n",
       "        text-align: right;\n",
       "    }\n",
       "</style>\n",
       "<table border=\"1\" class=\"dataframe\">\n",
       "  <thead>\n",
       "    <tr style=\"text-align: right;\">\n",
       "      <th></th>\n",
       "      <th>DATE</th>\n",
       "      <th>average_stock_price</th>\n",
       "      <th>average_stock_price_change</th>\n",
       "      <th>lag_average_stock_price_change</th>\n",
       "      <th>M1-M2</th>\n",
       "      <th>average_interest_rate</th>\n",
       "      <th>single_rate_period_change</th>\n",
       "      <th>lag_single_rate_change</th>\n",
       "      <th>average_cpi_change</th>\n",
       "      <th>single_average_cpi_change</th>\n",
       "      <th>lag_single_average_cpi_change</th>\n",
       "      <th>average_unemployment</th>\n",
       "      <th>average_unemployment_change</th>\n",
       "      <th>lag_average_unemployment_change</th>\n",
       "      <th>future_change</th>\n",
       "      <th>buy_or_sell</th>\n",
       "    </tr>\n",
       "  </thead>\n",
       "  <tbody>\n",
       "    <tr>\n",
       "      <th>31</th>\n",
       "      <td>2021-08-31</td>\n",
       "      <td>444.520000</td>\n",
       "      <td>9.425718</td>\n",
       "      <td>12.109738</td>\n",
       "      <td>3.279482</td>\n",
       "      <td>0.09</td>\n",
       "      <td>-0.01</td>\n",
       "      <td>0.02</td>\n",
       "      <td>5.188292</td>\n",
       "      <td>-0.033214</td>\n",
       "      <td>-0.060105</td>\n",
       "      <td>5.2</td>\n",
       "      <td>-0.2</td>\n",
       "      <td>-0.5</td>\n",
       "      <td>-0.966189</td>\n",
       "      <td>HOLD</td>\n",
       "    </tr>\n",
       "    <tr>\n",
       "      <th>32</th>\n",
       "      <td>2021-09-30</td>\n",
       "      <td>443.553811</td>\n",
       "      <td>-0.966189</td>\n",
       "      <td>9.425718</td>\n",
       "      <td>2.929079</td>\n",
       "      <td>0.08</td>\n",
       "      <td>-0.01</td>\n",
       "      <td>-0.01</td>\n",
       "      <td>5.383630</td>\n",
       "      <td>0.195338</td>\n",
       "      <td>-0.033214</td>\n",
       "      <td>4.8</td>\n",
       "      <td>-0.4</td>\n",
       "      <td>-0.2</td>\n",
       "      <td>1.171426</td>\n",
       "      <td>HOLD</td>\n",
       "    </tr>\n",
       "    <tr>\n",
       "      <th>33</th>\n",
       "      <td>2021-10-31</td>\n",
       "      <td>444.725237</td>\n",
       "      <td>1.171426</td>\n",
       "      <td>-0.966189</td>\n",
       "      <td>2.683967</td>\n",
       "      <td>0.08</td>\n",
       "      <td>0.00</td>\n",
       "      <td>-0.01</td>\n",
       "      <td>6.237754</td>\n",
       "      <td>0.854124</td>\n",
       "      <td>0.195338</td>\n",
       "      <td>4.5</td>\n",
       "      <td>-0.3</td>\n",
       "      <td>-0.4</td>\n",
       "      <td>21.030478</td>\n",
       "      <td>BUY</td>\n",
       "    </tr>\n",
       "    <tr>\n",
       "      <th>34</th>\n",
       "      <td>2021-11-30</td>\n",
       "      <td>465.755716</td>\n",
       "      <td>21.030478</td>\n",
       "      <td>1.171426</td>\n",
       "      <td>2.509540</td>\n",
       "      <td>0.08</td>\n",
       "      <td>0.00</td>\n",
       "      <td>0.00</td>\n",
       "      <td>6.862388</td>\n",
       "      <td>0.624634</td>\n",
       "      <td>0.854124</td>\n",
       "      <td>4.2</td>\n",
       "      <td>-0.3</td>\n",
       "      <td>-0.3</td>\n",
       "      <td>0.649286</td>\n",
       "      <td>HOLD</td>\n",
       "    </tr>\n",
       "    <tr>\n",
       "      <th>35</th>\n",
       "      <td>2021-12-31</td>\n",
       "      <td>466.405002</td>\n",
       "      <td>0.649286</td>\n",
       "      <td>21.030478</td>\n",
       "      <td>2.224443</td>\n",
       "      <td>0.08</td>\n",
       "      <td>0.00</td>\n",
       "      <td>0.00</td>\n",
       "      <td>7.194459</td>\n",
       "      <td>0.332071</td>\n",
       "      <td>0.624634</td>\n",
       "      <td>3.9</td>\n",
       "      <td>-0.3</td>\n",
       "      <td>-0.3</td>\n",
       "      <td>NaN</td>\n",
       "      <td>HOLD</td>\n",
       "    </tr>\n",
       "  </tbody>\n",
       "</table>\n",
       "</div>"
      ],
      "text/plain": [
       "         DATE  average_stock_price  average_stock_price_change  \\\n",
       "31 2021-08-31           444.520000                    9.425718   \n",
       "32 2021-09-30           443.553811                   -0.966189   \n",
       "33 2021-10-31           444.725237                    1.171426   \n",
       "34 2021-11-30           465.755716                   21.030478   \n",
       "35 2021-12-31           466.405002                    0.649286   \n",
       "\n",
       "    lag_average_stock_price_change     M1-M2  average_interest_rate  \\\n",
       "31                       12.109738  3.279482                   0.09   \n",
       "32                        9.425718  2.929079                   0.08   \n",
       "33                       -0.966189  2.683967                   0.08   \n",
       "34                        1.171426  2.509540                   0.08   \n",
       "35                       21.030478  2.224443                   0.08   \n",
       "\n",
       "    single_rate_period_change  lag_single_rate_change  average_cpi_change  \\\n",
       "31                      -0.01                    0.02            5.188292   \n",
       "32                      -0.01                   -0.01            5.383630   \n",
       "33                       0.00                   -0.01            6.237754   \n",
       "34                       0.00                    0.00            6.862388   \n",
       "35                       0.00                    0.00            7.194459   \n",
       "\n",
       "    single_average_cpi_change  lag_single_average_cpi_change  \\\n",
       "31                  -0.033214                      -0.060105   \n",
       "32                   0.195338                      -0.033214   \n",
       "33                   0.854124                       0.195338   \n",
       "34                   0.624634                       0.854124   \n",
       "35                   0.332071                       0.624634   \n",
       "\n",
       "    average_unemployment  average_unemployment_change  \\\n",
       "31                   5.2                         -0.2   \n",
       "32                   4.8                         -0.4   \n",
       "33                   4.5                         -0.3   \n",
       "34                   4.2                         -0.3   \n",
       "35                   3.9                         -0.3   \n",
       "\n",
       "    lag_average_unemployment_change  future_change buy_or_sell  \n",
       "31                             -0.5      -0.966189        HOLD  \n",
       "32                             -0.2       1.171426        HOLD  \n",
       "33                             -0.4      21.030478         BUY  \n",
       "34                             -0.3       0.649286        HOLD  \n",
       "35                             -0.3            NaN        HOLD  "
      ]
     },
     "execution_count": 31,
     "metadata": {},
     "output_type": "execute_result"
    }
   ],
   "source": [
    "full_train_macro_indicators = buy_or_sell(train_macro_indicators)\n",
    "full_train_macro_indicators.tail()"
   ]
  },
  {
   "cell_type": "markdown",
   "metadata": {},
   "source": [
    "### LGBM MODEL"
   ]
  },
  {
   "cell_type": "code",
   "execution_count": 376,
   "metadata": {},
   "outputs": [
    {
     "name": "stdout",
     "output_type": "stream",
     "text": [
      "[*********************100%%**********************]  1 of 1 completed\n",
      "[*********************100%%**********************]  1 of 1 completed\n"
     ]
    },
    {
     "data": {
      "text/html": [
       "<div>\n",
       "<style scoped>\n",
       "    .dataframe tbody tr th:only-of-type {\n",
       "        vertical-align: middle;\n",
       "    }\n",
       "\n",
       "    .dataframe tbody tr th {\n",
       "        vertical-align: top;\n",
       "    }\n",
       "\n",
       "    .dataframe thead th {\n",
       "        text-align: right;\n",
       "    }\n",
       "</style>\n",
       "<table border=\"1\" class=\"dataframe\">\n",
       "  <thead>\n",
       "    <tr style=\"text-align: right;\">\n",
       "      <th></th>\n",
       "      <th>DATE</th>\n",
       "      <th>average_stock_price</th>\n",
       "      <th>average_stock_price_change</th>\n",
       "      <th>lag_average_stock_price_change</th>\n",
       "      <th>M1-M2</th>\n",
       "      <th>average_interest_rate</th>\n",
       "      <th>single_rate_period_change</th>\n",
       "      <th>lag_single_rate_change</th>\n",
       "      <th>average_cpi_change</th>\n",
       "      <th>single_average_cpi_change</th>\n",
       "      <th>lag_single_average_cpi_change</th>\n",
       "      <th>average_unemployment</th>\n",
       "      <th>average_unemployment_change</th>\n",
       "      <th>lag_average_unemployment_change</th>\n",
       "      <th>future_change</th>\n",
       "      <th>buy_or_sell</th>\n",
       "    </tr>\n",
       "  </thead>\n",
       "  <tbody>\n",
       "    <tr>\n",
       "      <th>0</th>\n",
       "      <td>2019-01-31</td>\n",
       "      <td>260.104284</td>\n",
       "      <td>3.352180</td>\n",
       "      <td>-15.455517</td>\n",
       "      <td>-1.456675</td>\n",
       "      <td>2.40</td>\n",
       "      <td>0.13</td>\n",
       "      <td>0.07</td>\n",
       "      <td>1.550677</td>\n",
       "      <td>-0.451704</td>\n",
       "      <td>-0.144948</td>\n",
       "      <td>4.0</td>\n",
       "      <td>0.1</td>\n",
       "      <td>0.1</td>\n",
       "      <td>15.130980</td>\n",
       "      <td>BUY</td>\n",
       "    </tr>\n",
       "    <tr>\n",
       "      <th>1</th>\n",
       "      <td>2019-02-28</td>\n",
       "      <td>275.235265</td>\n",
       "      <td>15.130980</td>\n",
       "      <td>3.352180</td>\n",
       "      <td>-0.186713</td>\n",
       "      <td>2.40</td>\n",
       "      <td>0.00</td>\n",
       "      <td>0.13</td>\n",
       "      <td>1.520064</td>\n",
       "      <td>-0.030613</td>\n",
       "      <td>-0.451704</td>\n",
       "      <td>3.8</td>\n",
       "      <td>-0.2</td>\n",
       "      <td>0.1</td>\n",
       "      <td>4.795209</td>\n",
       "      <td>HOLD</td>\n",
       "    </tr>\n",
       "    <tr>\n",
       "      <th>2</th>\n",
       "      <td>2019-03-31</td>\n",
       "      <td>280.030474</td>\n",
       "      <td>4.795209</td>\n",
       "      <td>15.130980</td>\n",
       "      <td>-1.957033</td>\n",
       "      <td>2.41</td>\n",
       "      <td>0.01</td>\n",
       "      <td>0.00</td>\n",
       "      <td>1.853136</td>\n",
       "      <td>0.333072</td>\n",
       "      <td>-0.030613</td>\n",
       "      <td>3.8</td>\n",
       "      <td>0.0</td>\n",
       "      <td>-0.2</td>\n",
       "      <td>9.734288</td>\n",
       "      <td>BUY</td>\n",
       "    </tr>\n",
       "    <tr>\n",
       "      <th>3</th>\n",
       "      <td>2019-04-30</td>\n",
       "      <td>289.764762</td>\n",
       "      <td>9.734288</td>\n",
       "      <td>4.795209</td>\n",
       "      <td>-0.562198</td>\n",
       "      <td>2.42</td>\n",
       "      <td>0.01</td>\n",
       "      <td>0.01</td>\n",
       "      <td>1.991791</td>\n",
       "      <td>0.138656</td>\n",
       "      <td>0.333072</td>\n",
       "      <td>3.6</td>\n",
       "      <td>-0.2</td>\n",
       "      <td>0.0</td>\n",
       "      <td>-4.462489</td>\n",
       "      <td>HOLD</td>\n",
       "    </tr>\n",
       "    <tr>\n",
       "      <th>4</th>\n",
       "      <td>2019-05-31</td>\n",
       "      <td>285.302272</td>\n",
       "      <td>-4.462489</td>\n",
       "      <td>9.734288</td>\n",
       "      <td>-0.581499</td>\n",
       "      <td>2.39</td>\n",
       "      <td>-0.03</td>\n",
       "      <td>0.01</td>\n",
       "      <td>1.793518</td>\n",
       "      <td>-0.198273</td>\n",
       "      <td>0.138656</td>\n",
       "      <td>3.7</td>\n",
       "      <td>0.1</td>\n",
       "      <td>-0.2</td>\n",
       "      <td>3.681227</td>\n",
       "      <td>HOLD</td>\n",
       "    </tr>\n",
       "  </tbody>\n",
       "</table>\n",
       "</div>"
      ],
      "text/plain": [
       "        DATE  average_stock_price  average_stock_price_change  \\\n",
       "0 2019-01-31           260.104284                    3.352180   \n",
       "1 2019-02-28           275.235265                   15.130980   \n",
       "2 2019-03-31           280.030474                    4.795209   \n",
       "3 2019-04-30           289.764762                    9.734288   \n",
       "4 2019-05-31           285.302272                   -4.462489   \n",
       "\n",
       "   lag_average_stock_price_change     M1-M2  average_interest_rate  \\\n",
       "0                      -15.455517 -1.456675                   2.40   \n",
       "1                        3.352180 -0.186713                   2.40   \n",
       "2                       15.130980 -1.957033                   2.41   \n",
       "3                        4.795209 -0.562198                   2.42   \n",
       "4                        9.734288 -0.581499                   2.39   \n",
       "\n",
       "   single_rate_period_change  lag_single_rate_change  average_cpi_change  \\\n",
       "0                       0.13                    0.07            1.550677   \n",
       "1                       0.00                    0.13            1.520064   \n",
       "2                       0.01                    0.00            1.853136   \n",
       "3                       0.01                    0.01            1.991791   \n",
       "4                      -0.03                    0.01            1.793518   \n",
       "\n",
       "   single_average_cpi_change  lag_single_average_cpi_change  \\\n",
       "0                  -0.451704                      -0.144948   \n",
       "1                  -0.030613                      -0.451704   \n",
       "2                   0.333072                      -0.030613   \n",
       "3                   0.138656                       0.333072   \n",
       "4                  -0.198273                       0.138656   \n",
       "\n",
       "   average_unemployment  average_unemployment_change  \\\n",
       "0                   4.0                          0.1   \n",
       "1                   3.8                         -0.2   \n",
       "2                   3.8                          0.0   \n",
       "3                   3.6                         -0.2   \n",
       "4                   3.7                          0.1   \n",
       "\n",
       "   lag_average_unemployment_change  future_change buy_or_sell  \n",
       "0                              0.1      15.130980         BUY  \n",
       "1                              0.1       4.795209        HOLD  \n",
       "2                             -0.2       9.734288         BUY  \n",
       "3                              0.0      -4.462489        HOLD  \n",
       "4                             -0.2       3.681227        HOLD  "
      ]
     },
     "execution_count": 376,
     "metadata": {},
     "output_type": "execute_result"
    }
   ],
   "source": [
    "# Create a test data set from another period in time\n",
    "# test_end_date = datetime.datetime(2010, 1, 1)\n",
    "# test_macro_indicators = get_data(test_end_date)\n",
    "# full_test_macro_indicators = buy_or_sell(test_macro_indicators)"
   ]
  },
  {
   "cell_type": "code",
   "execution_count": 48,
   "metadata": {},
   "outputs": [],
   "source": [
    "var_columns = [c for c in full_train_macro_indicators if c not in['future_change','DATE','buy_or_sell']]\n",
    "\n",
    "X = full_train_macro_indicators.loc[:, var_columns]\n",
    "y = full_train_macro_indicators.loc[:, 'buy_or_sell']\n",
    "\n",
    "X_train, X_valid, y_train, y_valid = train_test_split(X, y, test_size = 0.2)"
   ]
  },
  {
   "cell_type": "code",
   "execution_count": 49,
   "metadata": {},
   "outputs": [],
   "source": [
    "train_data = lightgbm.Dataset(X_train, label = y_train)\n",
    "valid_data = lightgbm.Dataset(X_valid, label = y_valid)"
   ]
  },
  {
   "cell_type": "code",
   "execution_count": 59,
   "metadata": {},
   "outputs": [
    {
     "name": "stdout",
     "output_type": "stream",
     "text": [
      "[LightGBM] [Info] Total Bins 0\n",
      "[LightGBM] [Info] Number of data points in the train set: 28, number of used features: 0\n",
      "[LightGBM] [Info] Start training from score -34.538776\n",
      "[LightGBM] [Info] Start training from score -34.538776\n",
      "[LightGBM] [Warning] Stopped training because there are no more leaves that meet the split requirements\n",
      "[LightGBM] [Warning] Stopped training because there are no more leaves that meet the split requirements\n",
      "[LightGBM] [Warning] Stopped training because there are no more leaves that meet the split requirements\n",
      "[LightGBM] [Warning] Stopped training because there are no more leaves that meet the split requirements\n",
      "[LightGBM] [Warning] Stopped training because there are no more leaves that meet the split requirements\n",
      "[LightGBM] [Warning] Stopped training because there are no more leaves that meet the split requirements\n",
      "[LightGBM] [Warning] Stopped training because there are no more leaves that meet the split requirements\n",
      "[LightGBM] [Warning] Stopped training because there are no more leaves that meet the split requirements\n",
      "[LightGBM] [Warning] Stopped training because there are no more leaves that meet the split requirements\n",
      "[LightGBM] [Warning] Stopped training because there are no more leaves that meet the split requirements\n",
      "Accuracy: 0.625\n"
     ]
    }
   ],
   "source": [
    "params = {\n",
    "    'objective': 'multiclass',  # or 'binary' for binary classification\n",
    "    'num_class': 3,    # Specify the number of classes for multiclass classification\n",
    "    'metric': 'multi_logloss',  # Logarithmic Loss for classification\n",
    "}\n",
    "\n",
    "\n",
    "model = lightgbm.train(params, \n",
    "                       train_data, \n",
    "                       valid_sets=valid_data, \n",
    "                       num_boost_round = 10)\n",
    "\n",
    "predictions = model.predict(X_valid)\n",
    "predicted_labels = predictions.argmax(axis=1)\n",
    "\n",
    "try:\n",
    "    # Convert predicted labels to match the format of true labels\n",
    "    predicted_labels = ['BUY' if label == 0 else 'HOLD' for label in predicted_labels]\n",
    "\n",
    "    # Evaluate the model\n",
    "    accuracy = accuracy_score(y_valid, predicted_labels)\n",
    "    print(f'Accuracy: {accuracy}')\n",
    "except Exception as e:\n",
    "    print(f'Error: {e}')"
   ]
  },
  {
   "cell_type": "code",
   "execution_count": 63,
   "metadata": {},
   "outputs": [
    {
     "ename": "ImportError",
     "evalue": "You must install graphviz and restart your session to plot tree.",
     "output_type": "error",
     "traceback": [
      "\u001b[1;31m---------------------------------------------------------------------------\u001b[0m",
      "\u001b[1;31mImportError\u001b[0m                               Traceback (most recent call last)",
      "\u001b[1;32mc:\\Users\\theaw\\OneDrive\\Desktop\\Stock Equity\\macro-analysis\\macro-analysis-code.ipynb Cell 34\u001b[0m line \u001b[0;36m2\n\u001b[0;32m      <a href='vscode-notebook-cell:/c%3A/Users/theaw/OneDrive/Desktop/Stock%20Equity/macro-analysis/macro-analysis-code.ipynb#X52sZmlsZQ%3D%3D?line=0'>1</a>\u001b[0m \u001b[39m# Assuming model is your trained LightGBM model\u001b[39;00m\n\u001b[1;32m----> <a href='vscode-notebook-cell:/c%3A/Users/theaw/OneDrive/Desktop/Stock%20Equity/macro-analysis/macro-analysis-code.ipynb#X52sZmlsZQ%3D%3D?line=1'>2</a>\u001b[0m graph \u001b[39m=\u001b[39m lightgbm\u001b[39m.\u001b[39;49mcreate_tree_digraph(model, tree_index\u001b[39m=\u001b[39;49m\u001b[39m0\u001b[39;49m, figsize\u001b[39m=\u001b[39;49m(\u001b[39m20\u001b[39;49m, \u001b[39m8\u001b[39;49m), \u001b[39mformat\u001b[39;49m\u001b[39m=\u001b[39;49m\u001b[39m'\u001b[39;49m\u001b[39mpng\u001b[39;49m\u001b[39m'\u001b[39;49m)\n\u001b[0;32m      <a href='vscode-notebook-cell:/c%3A/Users/theaw/OneDrive/Desktop/Stock%20Equity/macro-analysis/macro-analysis-code.ipynb#X52sZmlsZQ%3D%3D?line=2'>3</a>\u001b[0m graph\u001b[39m.\u001b[39mrender(\u001b[39m'\u001b[39m\u001b[39mtree\u001b[39m\u001b[39m'\u001b[39m)  \u001b[39m# This will save a PNG file with the tree visualization\u001b[39;00m\n\u001b[0;32m      <a href='vscode-notebook-cell:/c%3A/Users/theaw/OneDrive/Desktop/Stock%20Equity/macro-analysis/macro-analysis-code.ipynb#X52sZmlsZQ%3D%3D?line=3'>4</a>\u001b[0m graph\u001b[39m.\u001b[39mview(\u001b[39m'\u001b[39m\u001b[39mtree\u001b[39m\u001b[39m'\u001b[39m)\n",
      "File \u001b[1;32m~\\AppData\\Local\\Packages\\PythonSoftwareFoundation.Python.3.11_qbz5n2kfra8p0\\LocalCache\\local-packages\\Python311\\site-packages\\lightgbm\\plotting.py:721\u001b[0m, in \u001b[0;36mcreate_tree_digraph\u001b[1;34m(booster, tree_index, show_info, precision, orientation, example_case, max_category_values, **kwargs)\u001b[0m\n\u001b[0;32m    713\u001b[0m         example_case \u001b[39m=\u001b[39m _data_from_pandas(\n\u001b[0;32m    714\u001b[0m             data\u001b[39m=\u001b[39mexample_case,\n\u001b[0;32m    715\u001b[0m             feature_name\u001b[39m=\u001b[39m\u001b[39m\"\u001b[39m\u001b[39mauto\u001b[39m\u001b[39m\"\u001b[39m,\n\u001b[0;32m    716\u001b[0m             categorical_feature\u001b[39m=\u001b[39m\u001b[39m\"\u001b[39m\u001b[39mauto\u001b[39m\u001b[39m\"\u001b[39m,\n\u001b[0;32m    717\u001b[0m             pandas_categorical\u001b[39m=\u001b[39mbooster\u001b[39m.\u001b[39mpandas_categorical\n\u001b[0;32m    718\u001b[0m         )[\u001b[39m0\u001b[39m]\n\u001b[0;32m    719\u001b[0m     example_case \u001b[39m=\u001b[39m example_case[\u001b[39m0\u001b[39m]\n\u001b[1;32m--> 721\u001b[0m \u001b[39mreturn\u001b[39;00m _to_graphviz(\n\u001b[0;32m    722\u001b[0m     tree_info\u001b[39m=\u001b[39;49mtree_info,\n\u001b[0;32m    723\u001b[0m     show_info\u001b[39m=\u001b[39;49mshow_info,\n\u001b[0;32m    724\u001b[0m     feature_names\u001b[39m=\u001b[39;49mfeature_names,\n\u001b[0;32m    725\u001b[0m     precision\u001b[39m=\u001b[39;49mprecision,\n\u001b[0;32m    726\u001b[0m     orientation\u001b[39m=\u001b[39;49morientation,\n\u001b[0;32m    727\u001b[0m     constraints\u001b[39m=\u001b[39;49mmonotone_constraints,\n\u001b[0;32m    728\u001b[0m     example_case\u001b[39m=\u001b[39;49mexample_case,\n\u001b[0;32m    729\u001b[0m     max_category_values\u001b[39m=\u001b[39;49mmax_category_values,\n\u001b[0;32m    730\u001b[0m     \u001b[39m*\u001b[39;49m\u001b[39m*\u001b[39;49mkwargs\n\u001b[0;32m    731\u001b[0m )\n",
      "File \u001b[1;32m~\\AppData\\Local\\Packages\\PythonSoftwareFoundation.Python.3.11_qbz5n2kfra8p0\\LocalCache\\local-packages\\Python311\\site-packages\\lightgbm\\plotting.py:469\u001b[0m, in \u001b[0;36m_to_graphviz\u001b[1;34m(tree_info, show_info, feature_names, precision, orientation, constraints, example_case, max_category_values, **kwargs)\u001b[0m\n\u001b[0;32m    467\u001b[0m     \u001b[39mfrom\u001b[39;00m \u001b[39mgraphviz\u001b[39;00m \u001b[39mimport\u001b[39;00m Digraph\n\u001b[0;32m    468\u001b[0m \u001b[39melse\u001b[39;00m:\n\u001b[1;32m--> 469\u001b[0m     \u001b[39mraise\u001b[39;00m \u001b[39mImportError\u001b[39;00m(\u001b[39m'\u001b[39m\u001b[39mYou must install graphviz and restart your session to plot tree.\u001b[39m\u001b[39m'\u001b[39m)\n\u001b[0;32m    471\u001b[0m \u001b[39mdef\u001b[39;00m \u001b[39madd\u001b[39m(\n\u001b[0;32m    472\u001b[0m     root: Dict[\u001b[39mstr\u001b[39m, Any],\n\u001b[0;32m    473\u001b[0m     total_count: \u001b[39mint\u001b[39m,\n\u001b[1;32m   (...)\u001b[0m\n\u001b[0;32m    476\u001b[0m     highlight: \u001b[39mbool\u001b[39m\n\u001b[0;32m    477\u001b[0m ) \u001b[39m-\u001b[39m\u001b[39m>\u001b[39m \u001b[39mNone\u001b[39;00m:\n\u001b[0;32m    478\u001b[0m \u001b[39m    \u001b[39m\u001b[39m\"\"\"Recursively add node or edge.\"\"\"\u001b[39;00m\n",
      "\u001b[1;31mImportError\u001b[0m: You must install graphviz and restart your session to plot tree."
     ]
    }
   ],
   "source": [
    "\n",
    "# Assuming model is your trained LightGBM model\n",
    "graph = lightgbm.create_tree_digraph(model, tree_index=0, figsize=(20, 8), format='png')\n",
    "graph.render('tree')  # This will save a PNG file with the tree visualization\n",
    "graph.view('tree')"
   ]
  },
  {
   "cell_type": "code",
   "execution_count": null,
   "metadata": {},
   "outputs": [],
   "source": []
  }
 ],
 "metadata": {
  "kernelspec": {
   "display_name": "Python 3",
   "language": "python",
   "name": "python3"
  },
  "language_info": {
   "codemirror_mode": {
    "name": "ipython",
    "version": 3
   },
   "file_extension": ".py",
   "mimetype": "text/x-python",
   "name": "python",
   "nbconvert_exporter": "python",
   "pygments_lexer": "ipython3",
   "version": "3.11.6"
  }
 },
 "nbformat": 4,
 "nbformat_minor": 2
}
