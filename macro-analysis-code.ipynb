{
 "cells": [
  {
   "cell_type": "code",
   "execution_count": 18,
   "metadata": {},
   "outputs": [
    {
     "name": "stderr",
     "output_type": "stream",
     "text": [
      "\n",
      "[notice] A new release of pip is available: 23.2.1 -> 23.3.1\n",
      "[notice] To update, run: C:\\Users\\theaw\\AppData\\Local\\Microsoft\\WindowsApps\\PythonSoftwareFoundation.Python.3.11_qbz5n2kfra8p0\\python.exe -m pip install --upgrade pip\n",
      "\n",
      "[notice] A new release of pip is available: 23.2.1 -> 23.3.1\n",
      "[notice] To update, run: C:\\Users\\theaw\\AppData\\Local\\Microsoft\\WindowsApps\\PythonSoftwareFoundation.Python.3.11_qbz5n2kfra8p0\\python.exe -m pip install --upgrade pip\n",
      "\n",
      "[notice] A new release of pip is available: 23.2.1 -> 23.3.1\n",
      "[notice] To update, run: C:\\Users\\theaw\\AppData\\Local\\Microsoft\\WindowsApps\\PythonSoftwareFoundation.Python.3.11_qbz5n2kfra8p0\\python.exe -m pip install --upgrade pip\n"
     ]
    }
   ],
   "source": [
    "!pip install -q yfinance\n",
    "!pip install -q matplotlib\n",
    "!pip install -q pandas_datareader\n",
    "!pip install -q lightgbm\n",
    "!pip install scikit-learn\n",
    "!pip install lightgbm --upgrade\n",
    "!pip install graphviz\n",
    "\n"
   ]
  },
  {
   "cell_type": "code",
   "execution_count": 1,
   "metadata": {},
   "outputs": [],
   "source": [
    "import yfinance as yf\n",
    "import pandas as pd\n",
    "import matplotlib.pyplot as plt\n",
    "import pandas_datareader as pdr\n",
    "import numpy as np\n",
    "import datetime\n",
    "import lightgbm\n",
    "from dateutil.relativedelta import relativedelta\n",
    "from sklearn.model_selection import train_test_split\n",
    "from sklearn.metrics import accuracy_score\n",
    "import graphviz\n",
    "from sklearn.preprocessing import LabelEncoder\n",
    "\n",
    "\n",
    "\n"
   ]
  },
  {
   "cell_type": "markdown",
   "metadata": {},
   "source": [
    "# Economy Sample Stock"
   ]
  },
  {
   "cell_type": "code",
   "execution_count": 2,
   "metadata": {},
   "outputs": [],
   "source": [
    "def stock_info(macro_indicators):\n",
    "    ticker_data_info = pd.DataFrame()\n",
    "    tick = yf.download(ticker, start = start_date_with_shift, end = end_date)\n",
    "    ticker_data_info['average_stock_price'] = tick['Close'].resample(period_length).mean()\n",
    "    ticker_data_info['average_stock_price_change'] = ticker_data_info['average_stock_price'] - ticker_data_info['average_stock_price'].shift(1)\n",
    "    ticker_data_info['lag_average_stock_price_change'] = ticker_data_info['average_stock_price_change'].shift(1)\n",
    "    ticker_data_info.reset_index(inplace=True)\n",
    "    macro_indicators = pd.merge(macro_indicators, ticker_data_info[['Date', 'average_stock_price', 'average_stock_price_change', 'lag_average_stock_price_change']], \n",
    "                                left_on = 'DATE',\n",
    "                                right_on = 'Date',\n",
    "                                how = 'left')\n",
    "    macro_indicators.drop(columns=['Date'], inplace=True)\n",
    "    \n",
    "    return macro_indicators\n"
   ]
  },
  {
   "cell_type": "markdown",
   "metadata": {},
   "source": [
    "# Money Supply"
   ]
  },
  {
   "cell_type": "code",
   "execution_count": 3,
   "metadata": {},
   "outputs": [],
   "source": [
    "def fetch_money_supply():\n",
    "    # Define the list of money supply series to fetch\n",
    "    money_supply_series = ['M1SL', 'M2SL']\n",
    "\n",
    "    # Fetch money supply data using pandas_datareader\n",
    "    money_supply_data = pdr.get_data_fred(money_supply_series, start_date_with_shift, end_date)\n",
    "\n",
    "    # Calculate the YoY percentage change\n",
    "    money_supply_data['M1SL_YoY'] = money_supply_data['M1SL'].pct_change(12) * 100\n",
    "    money_supply_data['M2SL_YoY'] = money_supply_data['M2SL'].pct_change(12) * 100\n",
    "\n",
    "\n",
    "    return money_supply_data\n"
   ]
  },
  {
   "cell_type": "code",
   "execution_count": 4,
   "metadata": {},
   "outputs": [],
   "source": [
    "# Retrieves all MS between start and end date and returns MS differences in each period bin\n",
    "def money_supply_info(macro_indicators):\n",
    "    money_supply_data = fetch_money_supply()\n",
    "    \n",
    "    money_supply_data_average = money_supply_data.resample(period_length).mean()\n",
    "\n",
    "    money_supply_data_average['M1-M2'] = money_supply_data_average['M1SL_YoY'] - money_supply_data_average['M2SL_YoY']\n",
    "\n",
    "    macro_indicators = pd.merge(macro_indicators, money_supply_data_average['M1-M2'], on='DATE', how='left')\n",
    "    return macro_indicators"
   ]
  },
  {
   "cell_type": "markdown",
   "metadata": {},
   "source": [
    "# CPI Inflation"
   ]
  },
  {
   "cell_type": "code",
   "execution_count": 5,
   "metadata": {},
   "outputs": [],
   "source": [
    "def fetch_cpi_annual_change():\n",
    "    try:\n",
    "        # Fetch U.S. Consumer Price Index (CPI) data from FRED\n",
    "        cpi_data = pdr.get_data_fred('CPIAUCSL', start = start_date_with_shift, end = end_date)\n",
    "\n",
    "        if not cpi_data.empty:\n",
    "            # Calculate annual percentage change\n",
    "            cpi_data['Annual_Change'] = cpi_data['CPIAUCSL'].pct_change(12) * 100\n",
    "\n",
    "            return cpi_data[['Annual_Change']]\n",
    "        else:\n",
    "            return None  # Return None if there is no data\n",
    "    except Exception as e:\n",
    "        return None  # Return None if there is an error\n"
   ]
  },
  {
   "cell_type": "code",
   "execution_count": 6,
   "metadata": {},
   "outputs": [],
   "source": [
    "def cpi_info(macro_indicators):\n",
    "    cpi_data_info = pd.DataFrame()\n",
    "    cpi_data = fetch_cpi_annual_change()\n",
    "    cpi_data_info['average_cpi_change'] = cpi_data.resample(period_length).mean()\n",
    "    cpi_data_info['single_average_cpi_change'] = cpi_data_info['average_cpi_change'] - cpi_data_info['average_cpi_change'].shift(1)\n",
    "    cpi_data_info['lag_single_average_cpi_change'] = cpi_data_info['single_average_cpi_change'].shift(1)\n",
    "\n",
    "    macro_indicators = pd.merge(macro_indicators, cpi_data_info[['average_cpi_change', 'single_average_cpi_change', 'lag_single_average_cpi_change']], on = 'DATE', how = 'left')\n",
    "    \n",
    "    return(macro_indicators)"
   ]
  },
  {
   "cell_type": "markdown",
   "metadata": {},
   "source": [
    "# Unemployment"
   ]
  },
  {
   "cell_type": "code",
   "execution_count": 7,
   "metadata": {},
   "outputs": [],
   "source": [
    "def fetch_unemployment_data():\n",
    "    try:\n",
    "        # Define the ticker symbol for the U.S. unemployment rate (UNRATE)\n",
    "        unemployment_ticker = \"UNRATE\"\n",
    "\n",
    "        # Fetch unemployment data from FRED\n",
    "        unemployment_data = pdr.get_data_fred(unemployment_ticker, start = start_date_with_shift, end = end_date)\n",
    "\n",
    "        return unemployment_data\n",
    "    except Exception as e:\n",
    "        return None  # Return None if there is an error"
   ]
  },
  {
   "cell_type": "code",
   "execution_count": 8,
   "metadata": {},
   "outputs": [],
   "source": [
    "def unemployment_info(macro_indicators):\n",
    "    unemployment_info = pd.DataFrame()\n",
    "    unemployment_data = fetch_unemployment_data()\n",
    "    unemployment_info['average_unemployment'] = unemployment_data.resample(period_length).mean()\n",
    "    unemployment_info['average_unemployment_change'] = unemployment_info['average_unemployment'] - unemployment_info['average_unemployment'].shift(1)\n",
    "    unemployment_info['lag_average_unemployment_change'] = unemployment_info['average_unemployment_change'].shift(1)\n",
    "    macro_indicators = pd.merge(macro_indicators, unemployment_info[['average_unemployment', 'average_unemployment_change', 'lag_average_unemployment_change']], on = 'DATE', how = 'left')\n",
    "    return macro_indicators"
   ]
  },
  {
   "cell_type": "markdown",
   "metadata": {},
   "source": [
    "# Interest Rates"
   ]
  },
  {
   "cell_type": "code",
   "execution_count": 9,
   "metadata": {},
   "outputs": [],
   "source": [
    "def fetch_fed_interest_rate():\n",
    "    try:\n",
    "        # Fetch Federal Reserve interest rate data (FEDFUNDS) from FRED\n",
    "        fed_interest_rate = pdr.get_data_fred('FEDFUNDS', start = start_date_with_shift, end=end_date)\n",
    "\n",
    "        if not fed_interest_rate.empty:\n",
    "            return fed_interest_rate\n",
    "        else:\n",
    "            return None  # Return None if there is no data\n",
    "    except Exception as e:\n",
    "        return None  # Return None if there is an error\n",
    "\n"
   ]
  },
  {
   "cell_type": "code",
   "execution_count": 10,
   "metadata": {},
   "outputs": [],
   "source": [
    "def fed_interest_rate_info(macro_indicators):\n",
    "    fed_interest_rate_info = pd.DataFrame()\n",
    "    fed_interest_rate = fetch_fed_interest_rate()\n",
    "    fed_interest_rate_info['average_interest_rate'] = fed_interest_rate.resample(period_length).mean()\n",
    "    fed_interest_rate_info['single_rate_period_change'] = fed_interest_rate_info['average_interest_rate'] - fed_interest_rate_info['average_interest_rate'].shift(1)\n",
    "    fed_interest_rate_info['lag_single_rate_change'] = fed_interest_rate_info['single_rate_period_change'].shift(1)\n",
    "    macro_indicators = pd.merge(macro_indicators, fed_interest_rate_info[['average_interest_rate','single_rate_period_change', 'lag_single_rate_change']],on = 'DATE', how = 'left')\n",
    "    return(macro_indicators)\n",
    "\n"
   ]
  },
  {
   "cell_type": "markdown",
   "metadata": {},
   "source": [
    "# CPI, Inflation, unemployment, interest rates\n"
   ]
  },
  {
   "cell_type": "code",
   "execution_count": 11,
   "metadata": {},
   "outputs": [],
   "source": [
    "# New Function that takes the df(macro_indicators), function name, type of indicator\n",
    "# Not currently used in my code yet but more efficent coding :)\n",
    "def calculate_indicator_info(macro_indicators, fetch_function, column_prefix):\n",
    "    indicator_info = pd.DataFrame()\n",
    "    indicator_data = fetch_function()\n",
    "    average_column_name = f'average_{column_prefix}'\n",
    "    single_change_column_name = f'single_{column_prefix}_change'\n",
    "    lag_single_change_column_name = f'lag_{single_change_column_name}'\n",
    "\n",
    "    indicator_info[average_column_name] = indicator_data.resample(period_length).mean()\n",
    "    indicator_info[single_change_column_name] = indicator_info[average_column_name] - indicator_info[average_column_name].shift(1)\n",
    "    indicator_info[lag_single_change_column_name] = indicator_info[single_change_column_name].shift(1)\n",
    "\n",
    "    macro_indicators = pd.merge(\n",
    "        macro_indicators,\n",
    "        indicator_info[[average_column_name, single_change_column_name, lag_single_change_column_name]],\n",
    "        on='DATE',\n",
    "        how='left'\n",
    "    )\n",
    "\n",
    "    return macro_indicators"
   ]
  },
  {
   "cell_type": "code",
   "execution_count": 12,
   "metadata": {},
   "outputs": [],
   "source": [
    "def apply_indicators_info(macro_indicators, indicator_functions):\n",
    "    for indicator_function in indicator_functions:\n",
    "        macro_indicators = indicator_function(macro_indicators)\n",
    "    return macro_indicators"
   ]
  },
  {
   "cell_type": "markdown",
   "metadata": {},
   "source": [
    "# "
   ]
  },
  {
   "cell_type": "markdown",
   "metadata": {},
   "source": [
    "# MAIN"
   ]
  },
  {
   "cell_type": "code",
   "execution_count": 14,
   "metadata": {},
   "outputs": [],
   "source": [
    "# Main\n",
    "period_length = '1M'\n",
    "ticker = \"SPY\"\n",
    "end_date = datetime.datetime(2022, 1, 1)\n",
    "\n",
    "# Not sure why i can only do 36 months ahead\n",
    "start_date = end_date - relativedelta(months = 36)\n",
    "start_date_with_shift = start_date - relativedelta(months = 15)\n",
    "\n",
    "def get_data(end_date):\n",
    "\n",
    "    date_range = pd.date_range(start=start_date, end=end_date, freq = period_length)\n",
    "    macro_indicators = pd.DataFrame({'DATE': date_range})\n",
    "\n",
    "    stock_info(macro_indicators)\n",
    "\n",
    "    indicator_functions = [stock_info, money_supply_info, fed_interest_rate_info, cpi_info, unemployment_info]\n",
    "    macro_indicators = apply_indicators_info(macro_indicators, indicator_functions)\n",
    "    return macro_indicators\n",
    "\n",
    "\n",
    "\n"
   ]
  },
  {
   "cell_type": "code",
   "execution_count": 15,
   "metadata": {},
   "outputs": [
    {
     "name": "stdout",
     "output_type": "stream",
     "text": [
      "[*********************100%%**********************]  1 of 1 completed\n",
      "[*********************100%%**********************]  1 of 1 completed\n"
     ]
    }
   ],
   "source": [
    "end_date = datetime.datetime(2022, 1, 1)\n",
    "macro_indicators = get_data(end_date)\n"
   ]
  },
  {
   "cell_type": "markdown",
   "metadata": {},
   "source": [
    "# BACKTESTING"
   ]
  },
  {
   "cell_type": "markdown",
   "metadata": {},
   "source": [
    "### SELL, HOLD, BUY\n"
   ]
  },
  {
   "cell_type": "code",
   "execution_count": 16,
   "metadata": {},
   "outputs": [],
   "source": [
    "# Determine SELL, HOLD, or BUY based on future change\n",
    "def buy_or_sell(training_macro_indicators):\n",
    "    training_macro_indicators['future_change'] = training_macro_indicators['average_stock_price'].shift(-1) - training_macro_indicators['average_stock_price']\n",
    "\n",
    "    conditions = [\n",
    "        (training_macro_indicators['future_change'] >= 5),\n",
    "        (training_macro_indicators['future_change'] < 5) & (training_macro_indicators['future_change'] > -5),\n",
    "        (training_macro_indicators['future_change'] <= -5)\n",
    "    ]\n",
    "\n",
    "    choices = ['BUY', 'HOLD', 'SELL']\n",
    "\n",
    "    training_macro_indicators['buy_or_sell'] = np.select(conditions, choices, default='HOLD')\n",
    "\n",
    "    return training_macro_indicators"
   ]
  },
  {
   "cell_type": "code",
   "execution_count": 17,
   "metadata": {},
   "outputs": [],
   "source": [
    "train_macro_indicators = macro_indicators"
   ]
  },
  {
   "cell_type": "code",
   "execution_count": 18,
   "metadata": {},
   "outputs": [
    {
     "data": {
      "text/html": [
       "<div>\n",
       "<style scoped>\n",
       "    .dataframe tbody tr th:only-of-type {\n",
       "        vertical-align: middle;\n",
       "    }\n",
       "\n",
       "    .dataframe tbody tr th {\n",
       "        vertical-align: top;\n",
       "    }\n",
       "\n",
       "    .dataframe thead th {\n",
       "        text-align: right;\n",
       "    }\n",
       "</style>\n",
       "<table border=\"1\" class=\"dataframe\">\n",
       "  <thead>\n",
       "    <tr style=\"text-align: right;\">\n",
       "      <th></th>\n",
       "      <th>DATE</th>\n",
       "      <th>average_stock_price</th>\n",
       "      <th>average_stock_price_change</th>\n",
       "      <th>lag_average_stock_price_change</th>\n",
       "      <th>M1-M2</th>\n",
       "      <th>average_interest_rate</th>\n",
       "      <th>single_rate_period_change</th>\n",
       "      <th>lag_single_rate_change</th>\n",
       "      <th>average_cpi_change</th>\n",
       "      <th>single_average_cpi_change</th>\n",
       "      <th>lag_single_average_cpi_change</th>\n",
       "      <th>average_unemployment</th>\n",
       "      <th>average_unemployment_change</th>\n",
       "      <th>lag_average_unemployment_change</th>\n",
       "      <th>future_change</th>\n",
       "      <th>buy_or_sell</th>\n",
       "    </tr>\n",
       "  </thead>\n",
       "  <tbody>\n",
       "    <tr>\n",
       "      <th>31</th>\n",
       "      <td>2021-08-31</td>\n",
       "      <td>444.520000</td>\n",
       "      <td>9.425718</td>\n",
       "      <td>12.109738</td>\n",
       "      <td>3.279482</td>\n",
       "      <td>0.09</td>\n",
       "      <td>-0.01</td>\n",
       "      <td>0.02</td>\n",
       "      <td>5.188292</td>\n",
       "      <td>-0.033214</td>\n",
       "      <td>-0.060105</td>\n",
       "      <td>5.2</td>\n",
       "      <td>-0.2</td>\n",
       "      <td>-0.5</td>\n",
       "      <td>-0.966189</td>\n",
       "      <td>HOLD</td>\n",
       "    </tr>\n",
       "    <tr>\n",
       "      <th>32</th>\n",
       "      <td>2021-09-30</td>\n",
       "      <td>443.553811</td>\n",
       "      <td>-0.966189</td>\n",
       "      <td>9.425718</td>\n",
       "      <td>2.929079</td>\n",
       "      <td>0.08</td>\n",
       "      <td>-0.01</td>\n",
       "      <td>-0.01</td>\n",
       "      <td>5.383630</td>\n",
       "      <td>0.195338</td>\n",
       "      <td>-0.033214</td>\n",
       "      <td>4.8</td>\n",
       "      <td>-0.4</td>\n",
       "      <td>-0.2</td>\n",
       "      <td>1.171426</td>\n",
       "      <td>HOLD</td>\n",
       "    </tr>\n",
       "    <tr>\n",
       "      <th>33</th>\n",
       "      <td>2021-10-31</td>\n",
       "      <td>444.725237</td>\n",
       "      <td>1.171426</td>\n",
       "      <td>-0.966189</td>\n",
       "      <td>2.683967</td>\n",
       "      <td>0.08</td>\n",
       "      <td>0.00</td>\n",
       "      <td>-0.01</td>\n",
       "      <td>6.237754</td>\n",
       "      <td>0.854124</td>\n",
       "      <td>0.195338</td>\n",
       "      <td>4.5</td>\n",
       "      <td>-0.3</td>\n",
       "      <td>-0.4</td>\n",
       "      <td>21.030478</td>\n",
       "      <td>BUY</td>\n",
       "    </tr>\n",
       "    <tr>\n",
       "      <th>34</th>\n",
       "      <td>2021-11-30</td>\n",
       "      <td>465.755716</td>\n",
       "      <td>21.030478</td>\n",
       "      <td>1.171426</td>\n",
       "      <td>2.509540</td>\n",
       "      <td>0.08</td>\n",
       "      <td>0.00</td>\n",
       "      <td>0.00</td>\n",
       "      <td>6.862388</td>\n",
       "      <td>0.624634</td>\n",
       "      <td>0.854124</td>\n",
       "      <td>4.2</td>\n",
       "      <td>-0.3</td>\n",
       "      <td>-0.3</td>\n",
       "      <td>0.649286</td>\n",
       "      <td>HOLD</td>\n",
       "    </tr>\n",
       "    <tr>\n",
       "      <th>35</th>\n",
       "      <td>2021-12-31</td>\n",
       "      <td>466.405002</td>\n",
       "      <td>0.649286</td>\n",
       "      <td>21.030478</td>\n",
       "      <td>2.224443</td>\n",
       "      <td>0.08</td>\n",
       "      <td>0.00</td>\n",
       "      <td>0.00</td>\n",
       "      <td>7.194459</td>\n",
       "      <td>0.332071</td>\n",
       "      <td>0.624634</td>\n",
       "      <td>3.9</td>\n",
       "      <td>-0.3</td>\n",
       "      <td>-0.3</td>\n",
       "      <td>NaN</td>\n",
       "      <td>HOLD</td>\n",
       "    </tr>\n",
       "  </tbody>\n",
       "</table>\n",
       "</div>"
      ],
      "text/plain": [
       "         DATE  average_stock_price  average_stock_price_change  \\\n",
       "31 2021-08-31           444.520000                    9.425718   \n",
       "32 2021-09-30           443.553811                   -0.966189   \n",
       "33 2021-10-31           444.725237                    1.171426   \n",
       "34 2021-11-30           465.755716                   21.030478   \n",
       "35 2021-12-31           466.405002                    0.649286   \n",
       "\n",
       "    lag_average_stock_price_change     M1-M2  average_interest_rate  \\\n",
       "31                       12.109738  3.279482                   0.09   \n",
       "32                        9.425718  2.929079                   0.08   \n",
       "33                       -0.966189  2.683967                   0.08   \n",
       "34                        1.171426  2.509540                   0.08   \n",
       "35                       21.030478  2.224443                   0.08   \n",
       "\n",
       "    single_rate_period_change  lag_single_rate_change  average_cpi_change  \\\n",
       "31                      -0.01                    0.02            5.188292   \n",
       "32                      -0.01                   -0.01            5.383630   \n",
       "33                       0.00                   -0.01            6.237754   \n",
       "34                       0.00                    0.00            6.862388   \n",
       "35                       0.00                    0.00            7.194459   \n",
       "\n",
       "    single_average_cpi_change  lag_single_average_cpi_change  \\\n",
       "31                  -0.033214                      -0.060105   \n",
       "32                   0.195338                      -0.033214   \n",
       "33                   0.854124                       0.195338   \n",
       "34                   0.624634                       0.854124   \n",
       "35                   0.332071                       0.624634   \n",
       "\n",
       "    average_unemployment  average_unemployment_change  \\\n",
       "31                   5.2                         -0.2   \n",
       "32                   4.8                         -0.4   \n",
       "33                   4.5                         -0.3   \n",
       "34                   4.2                         -0.3   \n",
       "35                   3.9                         -0.3   \n",
       "\n",
       "    lag_average_unemployment_change  future_change buy_or_sell  \n",
       "31                             -0.5      -0.966189        HOLD  \n",
       "32                             -0.2       1.171426        HOLD  \n",
       "33                             -0.4      21.030478         BUY  \n",
       "34                             -0.3       0.649286        HOLD  \n",
       "35                             -0.3            NaN        HOLD  "
      ]
     },
     "execution_count": 18,
     "metadata": {},
     "output_type": "execute_result"
    }
   ],
   "source": [
    "full_train_macro_indicators = buy_or_sell(train_macro_indicators)\n",
    "full_train_macro_indicators.tail()"
   ]
  },
  {
   "cell_type": "markdown",
   "metadata": {},
   "source": [
    "### LGBM MODEL"
   ]
  },
  {
   "cell_type": "code",
   "execution_count": 20,
   "metadata": {},
   "outputs": [],
   "source": [
    "var_columns = [c for c in full_train_macro_indicators if c not in['future_change','DATE','buy_or_sell']]\n",
    "\n",
    "X = full_train_macro_indicators.loc[:, var_columns]\n",
    "y = full_train_macro_indicators.loc[:, 'buy_or_sell']\n",
    "\n",
    "X_train, X_valid, y_train, y_valid = train_test_split(X, y, test_size = 0.2)"
   ]
  },
  {
   "cell_type": "code",
   "execution_count": 21,
   "metadata": {},
   "outputs": [],
   "source": [
    "train_data = lightgbm.Dataset(X_train, label = y_train)\n",
    "valid_data = lightgbm.Dataset(X_valid, label = y_valid)"
   ]
  },
  {
   "cell_type": "code",
   "execution_count": 30,
   "metadata": {},
   "outputs": [
    {
     "name": "stdout",
     "output_type": "stream",
     "text": [
      "[LightGBM] [Info] Auto-choosing row-wise multi-threading, the overhead of testing was 0.002538 seconds.\n",
      "You can set `force_row_wise=true` to remove the overhead.\n",
      "And if memory is not enough, you can set `force_col_wise=true`.\n",
      "[LightGBM] [Info] Total Bins 89\n",
      "[LightGBM] [Info] Number of data points in the train set: 28, number of used features: 13\n",
      "[LightGBM] [Info] Start training from score -0.559616\n",
      "[LightGBM] [Info] Start training from score -0.934309\n",
      "[LightGBM] [Info] Start training from score -3.332205\n",
      "[LightGBM] [Warning] No further splits with positive gain, best gain: -inf\n",
      "[LightGBM] [Warning] No further splits with positive gain, best gain: -inf\n",
      "[LightGBM] [Warning] No further splits with positive gain, best gain: -inf\n",
      "[LightGBM] [Warning] No further splits with positive gain, best gain: -inf\n",
      "[LightGBM] [Warning] No further splits with positive gain, best gain: -inf\n",
      "[LightGBM] [Warning] No further splits with positive gain, best gain: -inf\n",
      "[LightGBM] [Warning] No further splits with positive gain, best gain: -inf\n",
      "[LightGBM] [Warning] No further splits with positive gain, best gain: -inf\n",
      "[LightGBM] [Warning] No further splits with positive gain, best gain: -inf\n",
      "[LightGBM] [Warning] No further splits with positive gain, best gain: -inf\n",
      "[LightGBM] [Warning] No further splits with positive gain, best gain: -inf\n",
      "[LightGBM] [Warning] No further splits with positive gain, best gain: -inf\n",
      "[LightGBM] [Warning] No further splits with positive gain, best gain: -inf\n",
      "[LightGBM] [Warning] No further splits with positive gain, best gain: -inf\n",
      "[LightGBM] [Warning] No further splits with positive gain, best gain: -inf\n",
      "Accuracy: 0.625\n"
     ]
    }
   ],
   "source": [
    "\n",
    "label_encoder = LabelEncoder()\n",
    "y_train_encoded = label_encoder.fit_transform(y_train)\n",
    "y_valid_encoded = label_encoder.transform(y_valid)\n",
    "\n",
    "params = {\n",
    "    'objective': 'multiclass',\n",
    "    'num_class': 3,\n",
    "    'metric': 'multi_logloss',\n",
    "    'min_data_in_bin': 5,\n",
    "    'min_data_in_leaf': 10\n",
    "}\n",
    "\n",
    "train_data_encoded = lightgbm.Dataset(X_train, label=y_train_encoded)\n",
    "valid_data_encoded = lightgbm.Dataset(X_valid, label=y_valid_encoded)\n",
    "\n",
    "model = lightgbm.train(\n",
    "    params,\n",
    "    train_data_encoded,\n",
    "    valid_sets=[valid_data_encoded],\n",
    "    num_boost_round=5\n",
    ")\n",
    "\n",
    "predictions = model.predict(X_valid)\n",
    "predicted_labels = predictions.argmax(axis=1)\n",
    "\n",
    "try:\n",
    "    # Convert predicted labels to match the format of true labels\n",
    "    predicted_labels = ['BUY' if label == 0 else 'HOLD' for label in predicted_labels]\n",
    "\n",
    "    # Evaluate the model\n",
    "    accuracy = accuracy_score(y_valid, predicted_labels)\n",
    "    print(f'Accuracy: {accuracy}')\n",
    "except Exception as e:\n",
    "    print(f'Error: {e}')"
   ]
  },
  {
   "cell_type": "code",
   "execution_count": 31,
   "metadata": {},
   "outputs": [
    {
     "ename": "ExecutableNotFound",
     "evalue": "failed to execute WindowsPath('dot'), make sure the Graphviz executables are on your systems' PATH",
     "output_type": "error",
     "traceback": [
      "\u001b[1;31m---------------------------------------------------------------------------\u001b[0m",
      "\u001b[1;31mFileNotFoundError\u001b[0m                         Traceback (most recent call last)",
      "File \u001b[1;32m~\\AppData\\Local\\Packages\\PythonSoftwareFoundation.Python.3.11_qbz5n2kfra8p0\\LocalCache\\local-packages\\Python311\\site-packages\\graphviz\\backend\\execute.py:81\u001b[0m, in \u001b[0;36mrun_check\u001b[1;34m(cmd, input_lines, encoding, quiet, **kwargs)\u001b[0m\n\u001b[0;32m     80\u001b[0m     \u001b[39melse\u001b[39;00m:\n\u001b[1;32m---> 81\u001b[0m         proc \u001b[39m=\u001b[39m subprocess\u001b[39m.\u001b[39;49mrun(cmd, \u001b[39m*\u001b[39;49m\u001b[39m*\u001b[39;49mkwargs)\n\u001b[0;32m     82\u001b[0m \u001b[39mexcept\u001b[39;00m \u001b[39mOSError\u001b[39;00m \u001b[39mas\u001b[39;00m e:\n",
      "File \u001b[1;32mC:\\Program Files\\WindowsApps\\PythonSoftwareFoundation.Python.3.11_3.11.1776.0_x64__qbz5n2kfra8p0\\Lib\\subprocess.py:548\u001b[0m, in \u001b[0;36mrun\u001b[1;34m(input, capture_output, timeout, check, *popenargs, **kwargs)\u001b[0m\n\u001b[0;32m    546\u001b[0m     kwargs[\u001b[39m'\u001b[39m\u001b[39mstderr\u001b[39m\u001b[39m'\u001b[39m] \u001b[39m=\u001b[39m PIPE\n\u001b[1;32m--> 548\u001b[0m \u001b[39mwith\u001b[39;00m Popen(\u001b[39m*\u001b[39;49mpopenargs, \u001b[39m*\u001b[39;49m\u001b[39m*\u001b[39;49mkwargs) \u001b[39mas\u001b[39;00m process:\n\u001b[0;32m    549\u001b[0m     \u001b[39mtry\u001b[39;00m:\n",
      "File \u001b[1;32mC:\\Program Files\\WindowsApps\\PythonSoftwareFoundation.Python.3.11_3.11.1776.0_x64__qbz5n2kfra8p0\\Lib\\subprocess.py:1026\u001b[0m, in \u001b[0;36mPopen.__init__\u001b[1;34m(self, args, bufsize, executable, stdin, stdout, stderr, preexec_fn, close_fds, shell, cwd, env, universal_newlines, startupinfo, creationflags, restore_signals, start_new_session, pass_fds, user, group, extra_groups, encoding, errors, text, umask, pipesize, process_group)\u001b[0m\n\u001b[0;32m   1023\u001b[0m             \u001b[39mself\u001b[39m\u001b[39m.\u001b[39mstderr \u001b[39m=\u001b[39m io\u001b[39m.\u001b[39mTextIOWrapper(\u001b[39mself\u001b[39m\u001b[39m.\u001b[39mstderr,\n\u001b[0;32m   1024\u001b[0m                     encoding\u001b[39m=\u001b[39mencoding, errors\u001b[39m=\u001b[39merrors)\n\u001b[1;32m-> 1026\u001b[0m     \u001b[39mself\u001b[39;49m\u001b[39m.\u001b[39;49m_execute_child(args, executable, preexec_fn, close_fds,\n\u001b[0;32m   1027\u001b[0m                         pass_fds, cwd, env,\n\u001b[0;32m   1028\u001b[0m                         startupinfo, creationflags, shell,\n\u001b[0;32m   1029\u001b[0m                         p2cread, p2cwrite,\n\u001b[0;32m   1030\u001b[0m                         c2pread, c2pwrite,\n\u001b[0;32m   1031\u001b[0m                         errread, errwrite,\n\u001b[0;32m   1032\u001b[0m                         restore_signals,\n\u001b[0;32m   1033\u001b[0m                         gid, gids, uid, umask,\n\u001b[0;32m   1034\u001b[0m                         start_new_session, process_group)\n\u001b[0;32m   1035\u001b[0m \u001b[39mexcept\u001b[39;00m:\n\u001b[0;32m   1036\u001b[0m     \u001b[39m# Cleanup if the child failed starting.\u001b[39;00m\n",
      "File \u001b[1;32mC:\\Program Files\\WindowsApps\\PythonSoftwareFoundation.Python.3.11_3.11.1776.0_x64__qbz5n2kfra8p0\\Lib\\subprocess.py:1538\u001b[0m, in \u001b[0;36mPopen._execute_child\u001b[1;34m(self, args, executable, preexec_fn, close_fds, pass_fds, cwd, env, startupinfo, creationflags, shell, p2cread, p2cwrite, c2pread, c2pwrite, errread, errwrite, unused_restore_signals, unused_gid, unused_gids, unused_uid, unused_umask, unused_start_new_session, unused_process_group)\u001b[0m\n\u001b[0;32m   1537\u001b[0m \u001b[39mtry\u001b[39;00m:\n\u001b[1;32m-> 1538\u001b[0m     hp, ht, pid, tid \u001b[39m=\u001b[39m _winapi\u001b[39m.\u001b[39;49mCreateProcess(executable, args,\n\u001b[0;32m   1539\u001b[0m                              \u001b[39m# no special security\u001b[39;49;00m\n\u001b[0;32m   1540\u001b[0m                              \u001b[39mNone\u001b[39;49;00m, \u001b[39mNone\u001b[39;49;00m,\n\u001b[0;32m   1541\u001b[0m                              \u001b[39mint\u001b[39;49m(\u001b[39mnot\u001b[39;49;00m close_fds),\n\u001b[0;32m   1542\u001b[0m                              creationflags,\n\u001b[0;32m   1543\u001b[0m                              env,\n\u001b[0;32m   1544\u001b[0m                              cwd,\n\u001b[0;32m   1545\u001b[0m                              startupinfo)\n\u001b[0;32m   1546\u001b[0m \u001b[39mfinally\u001b[39;00m:\n\u001b[0;32m   1547\u001b[0m     \u001b[39m# Child is launched. Close the parent's copy of those pipe\u001b[39;00m\n\u001b[0;32m   1548\u001b[0m     \u001b[39m# handles that only the child should have open.  You need\u001b[39;00m\n\u001b[1;32m   (...)\u001b[0m\n\u001b[0;32m   1551\u001b[0m     \u001b[39m# pipe will not close when the child process exits and the\u001b[39;00m\n\u001b[0;32m   1552\u001b[0m     \u001b[39m# ReadFile will hang.\u001b[39;00m\n",
      "\u001b[1;31mFileNotFoundError\u001b[0m: [WinError 2] The system cannot find the file specified",
      "\nThe above exception was the direct cause of the following exception:\n",
      "\u001b[1;31mExecutableNotFound\u001b[0m                        Traceback (most recent call last)",
      "\u001b[1;32mc:\\Users\\theaw\\OneDrive\\Desktop\\Stock Equity\\macro-analysis\\macro-analysis-code.ipynb Cell 33\u001b[0m line \u001b[0;36m3\n\u001b[0;32m      <a href='vscode-notebook-cell:/c%3A/Users/theaw/OneDrive/Desktop/Stock%20Equity/macro-analysis/macro-analysis-code.ipynb#X45sZmlsZQ%3D%3D?line=0'>1</a>\u001b[0m \u001b[39m# Assuming model is your trained LightGBM model\u001b[39;00m\n\u001b[0;32m      <a href='vscode-notebook-cell:/c%3A/Users/theaw/OneDrive/Desktop/Stock%20Equity/macro-analysis/macro-analysis-code.ipynb#X45sZmlsZQ%3D%3D?line=1'>2</a>\u001b[0m graph \u001b[39m=\u001b[39m lightgbm\u001b[39m.\u001b[39mcreate_tree_digraph(model, tree_index\u001b[39m=\u001b[39m\u001b[39m0\u001b[39m, \u001b[39mformat\u001b[39m\u001b[39m=\u001b[39m\u001b[39m'\u001b[39m\u001b[39mpng\u001b[39m\u001b[39m'\u001b[39m, graph_attr\u001b[39m=\u001b[39m{\u001b[39m'\u001b[39m\u001b[39msize\u001b[39m\u001b[39m'\u001b[39m: \u001b[39m'\u001b[39m\u001b[39m20,8\u001b[39m\u001b[39m'\u001b[39m})\n\u001b[1;32m----> <a href='vscode-notebook-cell:/c%3A/Users/theaw/OneDrive/Desktop/Stock%20Equity/macro-analysis/macro-analysis-code.ipynb#X45sZmlsZQ%3D%3D?line=2'>3</a>\u001b[0m graph\u001b[39m.\u001b[39;49mrender(\u001b[39m'\u001b[39;49m\u001b[39mtree\u001b[39;49m\u001b[39m'\u001b[39;49m)  \u001b[39m# This will save a PNG file with the tree visualization\u001b[39;00m\n\u001b[0;32m      <a href='vscode-notebook-cell:/c%3A/Users/theaw/OneDrive/Desktop/Stock%20Equity/macro-analysis/macro-analysis-code.ipynb#X45sZmlsZQ%3D%3D?line=3'>4</a>\u001b[0m graph\u001b[39m.\u001b[39mview(\u001b[39m'\u001b[39m\u001b[39mtree\u001b[39m\u001b[39m'\u001b[39m)\n",
      "File \u001b[1;32m~\\AppData\\Local\\Packages\\PythonSoftwareFoundation.Python.3.11_qbz5n2kfra8p0\\LocalCache\\local-packages\\Python311\\site-packages\\graphviz\\_tools.py:171\u001b[0m, in \u001b[0;36mdeprecate_positional_args.<locals>.decorator.<locals>.wrapper\u001b[1;34m(*args, **kwargs)\u001b[0m\n\u001b[0;32m    162\u001b[0m     wanted \u001b[39m=\u001b[39m \u001b[39m'\u001b[39m\u001b[39m, \u001b[39m\u001b[39m'\u001b[39m\u001b[39m.\u001b[39mjoin(\u001b[39mf\u001b[39m\u001b[39m'\u001b[39m\u001b[39m{\u001b[39;00mname\u001b[39m}\u001b[39;00m\u001b[39m=\u001b[39m\u001b[39m{\u001b[39;00mvalue\u001b[39m!r}\u001b[39;00m\u001b[39m'\u001b[39m\n\u001b[0;32m    163\u001b[0m                        \u001b[39mfor\u001b[39;00m name, value \u001b[39min\u001b[39;00m deprecated\u001b[39m.\u001b[39mitems())\n\u001b[0;32m    164\u001b[0m     warnings\u001b[39m.\u001b[39mwarn(\u001b[39mf\u001b[39m\u001b[39m'\u001b[39m\u001b[39mThe signature of \u001b[39m\u001b[39m{\u001b[39;00mfunc\u001b[39m.\u001b[39m\u001b[39m__name__\u001b[39m\u001b[39m}\u001b[39;00m\u001b[39m will be reduced\u001b[39m\u001b[39m'\u001b[39m\n\u001b[0;32m    165\u001b[0m                   \u001b[39mf\u001b[39m\u001b[39m'\u001b[39m\u001b[39m to \u001b[39m\u001b[39m{\u001b[39;00msupported_number\u001b[39m}\u001b[39;00m\u001b[39m positional args\u001b[39m\u001b[39m'\u001b[39m\n\u001b[0;32m    166\u001b[0m                   \u001b[39mf\u001b[39m\u001b[39m'\u001b[39m\u001b[39m \u001b[39m\u001b[39m{\u001b[39;00m\u001b[39mlist\u001b[39m(supported)\u001b[39m}\u001b[39;00m\u001b[39m: pass \u001b[39m\u001b[39m{\u001b[39;00mwanted\u001b[39m}\u001b[39;00m\u001b[39m'\u001b[39m\n\u001b[0;32m    167\u001b[0m                   \u001b[39m'\u001b[39m\u001b[39m as keyword arg(s)\u001b[39m\u001b[39m'\u001b[39m,\n\u001b[0;32m    168\u001b[0m                   stacklevel\u001b[39m=\u001b[39mstacklevel,\n\u001b[0;32m    169\u001b[0m                   category\u001b[39m=\u001b[39mcategory)\n\u001b[1;32m--> 171\u001b[0m \u001b[39mreturn\u001b[39;00m func(\u001b[39m*\u001b[39;49margs, \u001b[39m*\u001b[39;49m\u001b[39m*\u001b[39;49mkwargs)\n",
      "File \u001b[1;32m~\\AppData\\Local\\Packages\\PythonSoftwareFoundation.Python.3.11_qbz5n2kfra8p0\\LocalCache\\local-packages\\Python311\\site-packages\\graphviz\\rendering.py:122\u001b[0m, in \u001b[0;36mRender.render\u001b[1;34m(self, filename, directory, view, cleanup, format, renderer, formatter, neato_no_op, quiet, quiet_view, outfile, engine, raise_if_result_exists, overwrite_source)\u001b[0m\n\u001b[0;32m    118\u001b[0m filepath \u001b[39m=\u001b[39m \u001b[39mself\u001b[39m\u001b[39m.\u001b[39msave(filename, directory\u001b[39m=\u001b[39mdirectory, skip_existing\u001b[39m=\u001b[39m\u001b[39mNone\u001b[39;00m)\n\u001b[0;32m    120\u001b[0m args\u001b[39m.\u001b[39mappend(filepath)\n\u001b[1;32m--> 122\u001b[0m rendered \u001b[39m=\u001b[39m \u001b[39mself\u001b[39;49m\u001b[39m.\u001b[39;49m_render(\u001b[39m*\u001b[39;49margs, \u001b[39m*\u001b[39;49m\u001b[39m*\u001b[39;49mkwargs)\n\u001b[0;32m    124\u001b[0m \u001b[39mif\u001b[39;00m cleanup:\n\u001b[0;32m    125\u001b[0m     log\u001b[39m.\u001b[39mdebug(\u001b[39m'\u001b[39m\u001b[39mdelete \u001b[39m\u001b[39m%r\u001b[39;00m\u001b[39m'\u001b[39m, filepath)\n",
      "File \u001b[1;32m~\\AppData\\Local\\Packages\\PythonSoftwareFoundation.Python.3.11_qbz5n2kfra8p0\\LocalCache\\local-packages\\Python311\\site-packages\\graphviz\\_tools.py:171\u001b[0m, in \u001b[0;36mdeprecate_positional_args.<locals>.decorator.<locals>.wrapper\u001b[1;34m(*args, **kwargs)\u001b[0m\n\u001b[0;32m    162\u001b[0m     wanted \u001b[39m=\u001b[39m \u001b[39m'\u001b[39m\u001b[39m, \u001b[39m\u001b[39m'\u001b[39m\u001b[39m.\u001b[39mjoin(\u001b[39mf\u001b[39m\u001b[39m'\u001b[39m\u001b[39m{\u001b[39;00mname\u001b[39m}\u001b[39;00m\u001b[39m=\u001b[39m\u001b[39m{\u001b[39;00mvalue\u001b[39m!r}\u001b[39;00m\u001b[39m'\u001b[39m\n\u001b[0;32m    163\u001b[0m                        \u001b[39mfor\u001b[39;00m name, value \u001b[39min\u001b[39;00m deprecated\u001b[39m.\u001b[39mitems())\n\u001b[0;32m    164\u001b[0m     warnings\u001b[39m.\u001b[39mwarn(\u001b[39mf\u001b[39m\u001b[39m'\u001b[39m\u001b[39mThe signature of \u001b[39m\u001b[39m{\u001b[39;00mfunc\u001b[39m.\u001b[39m\u001b[39m__name__\u001b[39m\u001b[39m}\u001b[39;00m\u001b[39m will be reduced\u001b[39m\u001b[39m'\u001b[39m\n\u001b[0;32m    165\u001b[0m                   \u001b[39mf\u001b[39m\u001b[39m'\u001b[39m\u001b[39m to \u001b[39m\u001b[39m{\u001b[39;00msupported_number\u001b[39m}\u001b[39;00m\u001b[39m positional args\u001b[39m\u001b[39m'\u001b[39m\n\u001b[0;32m    166\u001b[0m                   \u001b[39mf\u001b[39m\u001b[39m'\u001b[39m\u001b[39m \u001b[39m\u001b[39m{\u001b[39;00m\u001b[39mlist\u001b[39m(supported)\u001b[39m}\u001b[39;00m\u001b[39m: pass \u001b[39m\u001b[39m{\u001b[39;00mwanted\u001b[39m}\u001b[39;00m\u001b[39m'\u001b[39m\n\u001b[0;32m    167\u001b[0m                   \u001b[39m'\u001b[39m\u001b[39m as keyword arg(s)\u001b[39m\u001b[39m'\u001b[39m,\n\u001b[0;32m    168\u001b[0m                   stacklevel\u001b[39m=\u001b[39mstacklevel,\n\u001b[0;32m    169\u001b[0m                   category\u001b[39m=\u001b[39mcategory)\n\u001b[1;32m--> 171\u001b[0m \u001b[39mreturn\u001b[39;00m func(\u001b[39m*\u001b[39;49margs, \u001b[39m*\u001b[39;49m\u001b[39m*\u001b[39;49mkwargs)\n",
      "File \u001b[1;32m~\\AppData\\Local\\Packages\\PythonSoftwareFoundation.Python.3.11_qbz5n2kfra8p0\\LocalCache\\local-packages\\Python311\\site-packages\\graphviz\\backend\\rendering.py:324\u001b[0m, in \u001b[0;36mrender\u001b[1;34m(engine, format, filepath, renderer, formatter, neato_no_op, quiet, outfile, raise_if_result_exists, overwrite_filepath)\u001b[0m\n\u001b[0;32m    320\u001b[0m     \u001b[39mraise\u001b[39;00m exceptions\u001b[39m.\u001b[39mFileExistsError(\u001b[39mf\u001b[39m\u001b[39m'\u001b[39m\u001b[39moutput file exists: \u001b[39m\u001b[39m{\u001b[39;00mos\u001b[39m.\u001b[39mfspath(outfile)\u001b[39m!r}\u001b[39;00m\u001b[39m'\u001b[39m)\n\u001b[0;32m    322\u001b[0m cmd \u001b[39m+\u001b[39m\u001b[39m=\u001b[39m args\n\u001b[1;32m--> 324\u001b[0m execute\u001b[39m.\u001b[39;49mrun_check(cmd,\n\u001b[0;32m    325\u001b[0m                   cwd\u001b[39m=\u001b[39;49mfilepath\u001b[39m.\u001b[39;49mparent \u001b[39mif\u001b[39;49;00m filepath\u001b[39m.\u001b[39;49mparent\u001b[39m.\u001b[39;49mparts \u001b[39melse\u001b[39;49;00m \u001b[39mNone\u001b[39;49;00m,\n\u001b[0;32m    326\u001b[0m                   quiet\u001b[39m=\u001b[39;49mquiet,\n\u001b[0;32m    327\u001b[0m                   capture_output\u001b[39m=\u001b[39;49m\u001b[39mTrue\u001b[39;49;00m)\n\u001b[0;32m    329\u001b[0m \u001b[39mreturn\u001b[39;00m os\u001b[39m.\u001b[39mfspath(outfile)\n",
      "File \u001b[1;32m~\\AppData\\Local\\Packages\\PythonSoftwareFoundation.Python.3.11_qbz5n2kfra8p0\\LocalCache\\local-packages\\Python311\\site-packages\\graphviz\\backend\\execute.py:84\u001b[0m, in \u001b[0;36mrun_check\u001b[1;34m(cmd, input_lines, encoding, quiet, **kwargs)\u001b[0m\n\u001b[0;32m     82\u001b[0m \u001b[39mexcept\u001b[39;00m \u001b[39mOSError\u001b[39;00m \u001b[39mas\u001b[39;00m e:\n\u001b[0;32m     83\u001b[0m     \u001b[39mif\u001b[39;00m e\u001b[39m.\u001b[39merrno \u001b[39m==\u001b[39m errno\u001b[39m.\u001b[39mENOENT:\n\u001b[1;32m---> 84\u001b[0m         \u001b[39mraise\u001b[39;00m ExecutableNotFound(cmd) \u001b[39mfrom\u001b[39;00m \u001b[39me\u001b[39;00m\n\u001b[0;32m     85\u001b[0m     \u001b[39mraise\u001b[39;00m\n\u001b[0;32m     87\u001b[0m \u001b[39mif\u001b[39;00m \u001b[39mnot\u001b[39;00m quiet \u001b[39mand\u001b[39;00m proc\u001b[39m.\u001b[39mstderr:\n",
      "\u001b[1;31mExecutableNotFound\u001b[0m: failed to execute WindowsPath('dot'), make sure the Graphviz executables are on your systems' PATH"
     ]
    }
   ],
   "source": [
    "\n",
    "# Assuming model is your trained LightGBM model\n",
    "graph = lightgbm.create_tree_digraph(model, tree_index=0, format='png', graph_attr={'size': '20,8'})\n",
    "graph.render('tree')  # This will save a PNG file with the tree visualization\n",
    "graph.view('tree')"
   ]
  },
  {
   "cell_type": "code",
   "execution_count": null,
   "metadata": {},
   "outputs": [],
   "source": []
  }
 ],
 "metadata": {
  "kernelspec": {
   "display_name": "Python 3",
   "language": "python",
   "name": "python3"
  },
  "language_info": {
   "codemirror_mode": {
    "name": "ipython",
    "version": 3
   },
   "file_extension": ".py",
   "mimetype": "text/x-python",
   "name": "python",
   "nbconvert_exporter": "python",
   "pygments_lexer": "ipython3",
   "version": "3.11.6"
  }
 },
 "nbformat": 4,
 "nbformat_minor": 2
}
